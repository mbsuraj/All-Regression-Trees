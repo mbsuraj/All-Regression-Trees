{
  "nbformat": 4,
  "nbformat_minor": 0,
  "metadata": {
    "colab": {
      "name": "TeamAssignment1.ipynb",
      "provenance": [],
      "collapsed_sections": []
    },
    "kernelspec": {
      "name": "python3",
      "display_name": "Python 3"
    },
    "accelerator": "GPU"
  },
  "cells": [
    {
      "cell_type": "code",
      "metadata": {
        "id": "sc5xfPbJ1hwh",
        "colab_type": "code",
        "outputId": "7ace7c91-04e0-430e-bf46-e5a4d0a1e410",
        "colab": {
          "base_uri": "https://localhost:8080/",
          "height": 238
        }
      },
      "source": [
        "!pip install vecstack"
      ],
      "execution_count": 1,
      "outputs": [
        {
          "output_type": "stream",
          "text": [
            "Collecting vecstack\n",
            "  Downloading https://files.pythonhosted.org/packages/d0/a1/b9a1e9e9e5a12078da1ab9788c7885e4c745358f7e57d5f94d9db6a4e898/vecstack-0.4.0.tar.gz\n",
            "Requirement already satisfied: numpy in /usr/local/lib/python3.6/dist-packages (from vecstack) (1.17.4)\n",
            "Requirement already satisfied: scipy in /usr/local/lib/python3.6/dist-packages (from vecstack) (1.3.2)\n",
            "Requirement already satisfied: scikit-learn>=0.18 in /usr/local/lib/python3.6/dist-packages (from vecstack) (0.21.3)\n",
            "Requirement already satisfied: joblib>=0.11 in /usr/local/lib/python3.6/dist-packages (from scikit-learn>=0.18->vecstack) (0.14.0)\n",
            "Building wheels for collected packages: vecstack\n",
            "  Building wheel for vecstack (setup.py) ... \u001b[?25l\u001b[?25hdone\n",
            "  Created wheel for vecstack: filename=vecstack-0.4.0-cp36-none-any.whl size=19879 sha256=1a0d6b002215004c7b03909a019dcc294f60024319fb491fa8b361f26629f1d7\n",
            "  Stored in directory: /root/.cache/pip/wheels/5f/bb/4e/f6488433d53bc0684673d6845e5bf11a25240577c8151c140e\n",
            "Successfully built vecstack\n",
            "Installing collected packages: vecstack\n",
            "Successfully installed vecstack-0.4.0\n"
          ],
          "name": "stdout"
        }
      ]
    },
    {
      "cell_type": "code",
      "metadata": {
        "id": "h_XdCjh16RCN",
        "colab_type": "code",
        "outputId": "bf311ec8-8c5d-4be5-dd73-73a8c3239e27",
        "colab": {
          "base_uri": "https://localhost:8080/",
          "height": 139
        }
      },
      "source": [
        "from google.colab import drive\n",
        "drive.mount('/gdrive')\n",
        "%cd /gdrive\n",
        "\n",
        "import pandas as pd\n",
        "import numpy as np\n",
        "\n",
        "#changing display settings for columns, rows and width\n",
        "pd.set_option('display.max_rows', 500)\n",
        "pd.set_option('display.max_columns', 500)\n",
        "pd.set_option('display.width', 1000)\n",
        "\n",
        "#for preprocessing\n",
        "from sklearn.preprocessing import LabelEncoder\n",
        "from scipy.stats import mode\n",
        "from sklearn.preprocessing import MinMaxScaler\n",
        "\n",
        "#for point prediction\n",
        "from sklearn.tree import DecisionTreeRegressor\n",
        "from sklearn.ensemble import RandomForestRegressor, GradientBoostingRegressor\n",
        "from sklearn.neural_network import MLPRegressor\n",
        "from sklearn.neighbors import KNeighborsRegressor\n",
        "from sklearn.linear_model import SGDRegressor\n",
        "from sklearn.svm import SVR\n",
        "from sklearn.metrics import mean_squared_error\n",
        "from sklearn.model_selection import GridSearchCV, RandomizedSearchCV, cross_val_score\n",
        "from sklearn.metrics import mean_squared_error\n",
        "from sklearn.metrics import SCORERS\n",
        "import math\n",
        "\n",
        "#for stacking\n",
        "from vecstack import stacking\n",
        "\n",
        "\n",
        "import warnings\n",
        "warnings.filterwarnings(\"ignore\")\n",
        "\n",
        "\n"
      ],
      "execution_count": 2,
      "outputs": [
        {
          "output_type": "stream",
          "text": [
            "Go to this URL in a browser: https://accounts.google.com/o/oauth2/auth?client_id=947318989803-6bn6qk8qdgf4n4g3pfee6491hc0brc4i.apps.googleusercontent.com&redirect_uri=urn%3aietf%3awg%3aoauth%3a2.0%3aoob&response_type=code&scope=email%20https%3a%2f%2fwww.googleapis.com%2fauth%2fdocs.test%20https%3a%2f%2fwww.googleapis.com%2fauth%2fdrive%20https%3a%2f%2fwww.googleapis.com%2fauth%2fdrive.photos.readonly%20https%3a%2f%2fwww.googleapis.com%2fauth%2fpeopleapi.readonly\n",
            "\n",
            "Enter your authorization code:\n",
            "··········\n",
            "Mounted at /gdrive\n",
            "/gdrive\n"
          ],
          "name": "stdout"
        }
      ]
    },
    {
      "cell_type": "code",
      "metadata": {
        "id": "OTPb_y758ups",
        "colab_type": "code",
        "outputId": "2d4bec37-7170-414b-866a-976f905de77b",
        "colab": {
          "base_uri": "https://localhost:8080/",
          "height": 51
        }
      },
      "source": [
        "#importing data\n",
        "trainfile = r'/gdrive/My Drive/Assignments/TeamAssignment1/trainupdated.csv'\n",
        "testfile = r'/gdrive/My Drive/Assignments/TeamAssignment1/testupdated.csv'\n",
        "\n",
        "#copying into a DF\n",
        "train_data = pd.read_csv(trainfile)\n",
        "test_data = pd.read_csv(testfile)\n",
        "\n",
        "#checking data shape\n",
        "print(train_data.shape)\n",
        "print(test_data.shape)"
      ],
      "execution_count": 3,
      "outputs": [
        {
          "output_type": "stream",
          "text": [
            "(1460, 81)\n",
            "(1459, 80)\n"
          ],
          "name": "stdout"
        }
      ]
    },
    {
      "cell_type": "code",
      "metadata": {
        "id": "o5EGkAtv-nqQ",
        "colab_type": "code",
        "outputId": "5457f11d-205a-4b2e-a3e4-9bd854ccdca7",
        "colab": {
          "base_uri": "https://localhost:8080/",
          "height": 581
        }
      },
      "source": [
        "#Checking data columns \n",
        "print(train_data.columns)\n",
        "\n",
        "#using python to understand columns\n",
        "print(train_data.describe(include ='all'))\n",
        "print(\"\\n\\n\\n\\n\")\n",
        "print(test_data.describe(include ='all'))"
      ],
      "execution_count": 4,
      "outputs": [
        {
          "output_type": "stream",
          "text": [
            "Index(['Id', 'MSSubClass', 'MSZoning', 'LotFrontage', 'LotArea', 'Street', 'Alley', 'LotShape', 'LandContour', 'Utilities', 'LotConfig', 'LandSlope', 'Neighborhood', 'Condition1', 'Condition2', 'BldgType', 'HouseStyle', 'OverallQual', 'OverallCond', 'YearBuilt', 'YearRemodAdd', 'RoofStyle', 'RoofMatl', 'Exterior1st', 'Exterior2nd', 'MasVnrType', 'MasVnrArea', 'ExterQual', 'ExterCond', 'Foundation', 'BsmtQual', 'BsmtCond', 'BsmtExposure', 'BsmtFinType1', 'BsmtFinSF1', 'BsmtFinType2', 'BsmtFinSF2', 'BsmtUnfSF', 'TotalBsmtSF', 'Heating', 'HeatingQC', 'CentralAir', 'Electrical', '1stFlrSF', '2ndFlrSF', 'LowQualFinSF', 'GrLivArea', 'BsmtFullBath', 'BsmtHalfBath', 'FullBath', 'HalfBath', 'BedroomAbvGr', 'KitchenAbvGr', 'KitchenQual', 'TotRmsAbvGrd', 'Functional', 'Fireplaces', 'FireplaceQu', 'GarageType', 'GarageYrBlt', 'GarageFinish', 'GarageCars', 'GarageArea', 'GarageQual', 'GarageCond', 'PavedDrive', 'WoodDeckSF', 'OpenPorchSF', 'EnclosedPorch', '3SsnPorch', 'ScreenPorch', 'PoolArea',\n",
            "       'PoolQC', 'Fence', 'MiscFeature', 'MiscVal', 'MoSold', 'YrSold', 'SaleType', 'SaleCondition', 'SalePrice'],\n",
            "      dtype='object')\n",
            "                 Id   MSSubClass MSZoning  LotFrontage        LotArea Street Alley LotShape LandContour Utilities LotConfig LandSlope Neighborhood Condition1 Condition2 BldgType HouseStyle  OverallQual  OverallCond    YearBuilt  YearRemodAdd RoofStyle RoofMatl Exterior1st Exterior2nd MasVnrType   MasVnrArea ExterQual ExterCond Foundation BsmtQual BsmtCond BsmtExposure BsmtFinType1   BsmtFinSF1 BsmtFinType2   BsmtFinSF2    BsmtUnfSF  TotalBsmtSF Heating HeatingQC CentralAir Electrical     1stFlrSF     2ndFlrSF  LowQualFinSF    GrLivArea  BsmtFullBath  BsmtHalfBath     FullBath     HalfBath  BedroomAbvGr  KitchenAbvGr KitchenQual  TotRmsAbvGrd Functional   Fireplaces FireplaceQu GarageType  GarageYrBlt GarageFinish   GarageCars   GarageArea GarageQual GarageCond PavedDrive   WoodDeckSF  OpenPorchSF  EnclosedPorch    3SsnPorch  ScreenPorch     PoolArea PoolQC Fence MiscFeature       MiscVal       MoSold       YrSold SaleType SaleCondition      SalePrice\n",
            "count   1460.000000  1460.000000     1460  1201.000000    1460.000000   1460  1460     1460        1460      1460      1460      1460         1460       1460       1460     1460       1460  1460.000000  1460.000000  1460.000000   1460.000000      1460     1460        1460        1460       1452  1452.000000      1460      1460       1460     1460     1460         1460         1460  1460.000000         1460  1460.000000  1460.000000  1460.000000    1460      1460       1460       1459  1460.000000  1460.000000   1460.000000  1460.000000   1460.000000   1460.000000  1460.000000  1460.000000   1460.000000   1460.000000        1460   1460.000000       1460  1460.000000        1460       1460  1379.000000         1460  1460.000000  1460.000000       1460       1460       1460  1460.000000  1460.000000    1460.000000  1460.000000  1460.000000  1460.000000   1460  1460        1460   1460.000000  1460.000000  1460.000000     1460          1460    1460.000000\n",
            "unique          NaN          NaN        5          NaN            NaN      2     3        4           4         2         5         3           25          9          8        5          8          NaN          NaN          NaN           NaN         6        8          15          16          4          NaN         4         5          6        5        5            5            7          NaN            7          NaN          NaN          NaN       6         5          2          5          NaN          NaN           NaN          NaN           NaN           NaN          NaN          NaN           NaN           NaN           4           NaN          7          NaN           6          7          NaN            4          NaN          NaN          6          6          3          NaN          NaN            NaN          NaN          NaN          NaN      4     5           5           NaN          NaN          NaN        9             6            NaN\n",
            "top             NaN          NaN       RL          NaN            NaN   Pave    NO      Reg         Lvl    AllPub    Inside       Gtl        NAmes       Norm       Norm     1Fam     1Story          NaN          NaN          NaN           NaN     Gable  CompShg     VinylSd     VinylSd       None          NaN        TA        TA      PConc       TA       TA           No          Unf          NaN          Unf          NaN          NaN          NaN    GasA        Ex          Y      SBrkr          NaN          NaN           NaN          NaN           NaN           NaN          NaN          NaN           NaN           NaN          TA           NaN        Typ          NaN          NO     Attchd          NaN          Unf          NaN          NaN         TA         TA          Y          NaN          NaN            NaN          NaN          NaN          NaN     NO    NO          NO           NaN          NaN          NaN       WD        Normal            NaN\n",
            "freq            NaN          NaN     1151          NaN            NaN   1454  1369      925        1311      1459      1052      1382          225       1260       1445     1220        726          NaN          NaN          NaN           NaN      1141     1434         515         504        864          NaN       906      1282        647      649     1311          953          430          NaN         1256          NaN          NaN          NaN    1428       741       1365       1334          NaN          NaN           NaN          NaN           NaN           NaN          NaN          NaN           NaN           NaN         735           NaN       1360          NaN         690        870          NaN          605          NaN          NaN       1311       1326       1340          NaN          NaN            NaN          NaN          NaN          NaN   1453  1179        1406           NaN          NaN          NaN     1267          1198            NaN\n",
            "mean     730.500000    56.897260      NaN    70.049958   10516.828082    NaN   NaN      NaN         NaN       NaN       NaN       NaN          NaN        NaN        NaN      NaN        NaN     6.099315     5.575342  1971.267808   1984.865753       NaN      NaN         NaN         NaN        NaN   103.685262       NaN       NaN        NaN      NaN      NaN          NaN          NaN   443.639726          NaN    46.549315   567.240411  1057.429452     NaN       NaN        NaN        NaN  1162.626712   346.992466      5.844521  1515.463699      0.425342      0.057534     1.565068     0.382877      2.866438      1.046575         NaN      6.517808        NaN     0.613014         NaN        NaN  1978.506164          NaN     1.767123   472.980137        NaN        NaN        NaN    94.244521    46.660274      21.954110     3.409589    15.060959     2.758904    NaN   NaN         NaN     43.489041     6.321918  2007.815753      NaN           NaN  180921.195890\n",
            "std      421.610009    42.300571      NaN    24.284752    9981.264932    NaN   NaN      NaN         NaN       NaN       NaN       NaN          NaN        NaN        NaN      NaN        NaN     1.382997     1.112799    30.202904     20.645407       NaN      NaN         NaN         NaN        NaN   181.066207       NaN       NaN        NaN      NaN      NaN          NaN          NaN   456.098091          NaN   161.319273   441.866955   438.705324     NaN       NaN        NaN        NaN   386.587738   436.528436     48.623081   525.480383      0.518911      0.238753     0.550916     0.502885      0.815778      0.220338         NaN      1.625393        NaN     0.644666         NaN        NaN    24.689725          NaN     0.747315   213.804841        NaN        NaN        NaN   125.338794    66.256028      61.119149    29.317331    55.757415    40.177307    NaN   NaN         NaN    496.123024     2.703626     1.328095      NaN           NaN   79442.502883\n",
            "min        1.000000    20.000000      NaN    21.000000    1300.000000    NaN   NaN      NaN         NaN       NaN       NaN       NaN          NaN        NaN        NaN      NaN        NaN     1.000000     1.000000  1872.000000   1950.000000       NaN      NaN         NaN         NaN        NaN     0.000000       NaN       NaN        NaN      NaN      NaN          NaN          NaN     0.000000          NaN     0.000000     0.000000     0.000000     NaN       NaN        NaN        NaN   334.000000     0.000000      0.000000   334.000000      0.000000      0.000000     0.000000     0.000000      0.000000      0.000000         NaN      2.000000        NaN     0.000000         NaN        NaN  1900.000000          NaN     0.000000     0.000000        NaN        NaN        NaN     0.000000     0.000000       0.000000     0.000000     0.000000     0.000000    NaN   NaN         NaN      0.000000     1.000000  2006.000000      NaN           NaN   34900.000000\n",
            "25%      365.750000    20.000000      NaN    59.000000    7553.500000    NaN   NaN      NaN         NaN       NaN       NaN       NaN          NaN        NaN        NaN      NaN        NaN     5.000000     5.000000  1954.000000   1967.000000       NaN      NaN         NaN         NaN        NaN     0.000000       NaN       NaN        NaN      NaN      NaN          NaN          NaN     0.000000          NaN     0.000000   223.000000   795.750000     NaN       NaN        NaN        NaN   882.000000     0.000000      0.000000  1129.500000      0.000000      0.000000     1.000000     0.000000      2.000000      1.000000         NaN      5.000000        NaN     0.000000         NaN        NaN  1961.000000          NaN     1.000000   334.500000        NaN        NaN        NaN     0.000000     0.000000       0.000000     0.000000     0.000000     0.000000    NaN   NaN         NaN      0.000000     5.000000  2007.000000      NaN           NaN  129975.000000\n",
            "50%      730.500000    50.000000      NaN    69.000000    9478.500000    NaN   NaN      NaN         NaN       NaN       NaN       NaN          NaN        NaN        NaN      NaN        NaN     6.000000     5.000000  1973.000000   1994.000000       NaN      NaN         NaN         NaN        NaN     0.000000       NaN       NaN        NaN      NaN      NaN          NaN          NaN   383.500000          NaN     0.000000   477.500000   991.500000     NaN       NaN        NaN        NaN  1087.000000     0.000000      0.000000  1464.000000      0.000000      0.000000     2.000000     0.000000      3.000000      1.000000         NaN      6.000000        NaN     1.000000         NaN        NaN  1980.000000          NaN     2.000000   480.000000        NaN        NaN        NaN     0.000000    25.000000       0.000000     0.000000     0.000000     0.000000    NaN   NaN         NaN      0.000000     6.000000  2008.000000      NaN           NaN  163000.000000\n",
            "75%     1095.250000    70.000000      NaN    80.000000   11601.500000    NaN   NaN      NaN         NaN       NaN       NaN       NaN          NaN        NaN        NaN      NaN        NaN     7.000000     6.000000  2000.000000   2004.000000       NaN      NaN         NaN         NaN        NaN   166.000000       NaN       NaN        NaN      NaN      NaN          NaN          NaN   712.250000          NaN     0.000000   808.000000  1298.250000     NaN       NaN        NaN        NaN  1391.250000   728.000000      0.000000  1776.750000      1.000000      0.000000     2.000000     1.000000      3.000000      1.000000         NaN      7.000000        NaN     1.000000         NaN        NaN  2002.000000          NaN     2.000000   576.000000        NaN        NaN        NaN   168.000000    68.000000       0.000000     0.000000     0.000000     0.000000    NaN   NaN         NaN      0.000000     8.000000  2009.000000      NaN           NaN  214000.000000\n",
            "max     1460.000000   190.000000      NaN   313.000000  215245.000000    NaN   NaN      NaN         NaN       NaN       NaN       NaN          NaN        NaN        NaN      NaN        NaN    10.000000     9.000000  2010.000000   2010.000000       NaN      NaN         NaN         NaN        NaN  1600.000000       NaN       NaN        NaN      NaN      NaN          NaN          NaN  5644.000000          NaN  1474.000000  2336.000000  6110.000000     NaN       NaN        NaN        NaN  4692.000000  2065.000000    572.000000  5642.000000      3.000000      2.000000     3.000000     2.000000      8.000000      3.000000         NaN     14.000000        NaN     3.000000         NaN        NaN  2010.000000          NaN     4.000000  1418.000000        NaN        NaN        NaN   857.000000   547.000000     552.000000   508.000000   480.000000   738.000000    NaN   NaN         NaN  15500.000000    12.000000  2010.000000      NaN           NaN  755000.000000\n",
            "\n",
            "\n",
            "\n",
            "\n",
            "\n",
            "                 Id   MSSubClass MSZoning  LotFrontage       LotArea Street Alley LotShape LandContour Utilities LotConfig LandSlope Neighborhood Condition1 Condition2 BldgType HouseStyle  OverallQual  OverallCond    YearBuilt  YearRemodAdd RoofStyle RoofMatl Exterior1st Exterior2nd MasVnrType   MasVnrArea ExterQual ExterCond Foundation BsmtQual BsmtCond BsmtExposure BsmtFinType1   BsmtFinSF1 BsmtFinType2   BsmtFinSF2    BsmtUnfSF  TotalBsmtSF Heating HeatingQC CentralAir Electrical     1stFlrSF     2ndFlrSF  LowQualFinSF    GrLivArea  BsmtFullBath  BsmtHalfBath     FullBath     HalfBath  BedroomAbvGr  KitchenAbvGr KitchenQual  TotRmsAbvGrd Functional  Fireplaces FireplaceQu GarageType  GarageYrBlt GarageFinish   GarageCars   GarageArea GarageQual GarageCond PavedDrive   WoodDeckSF  OpenPorchSF  EnclosedPorch    3SsnPorch  ScreenPorch     PoolArea PoolQC Fence MiscFeature       MiscVal       MoSold       YrSold SaleType SaleCondition\n",
            "count   1459.000000  1459.000000     1455  1232.000000   1459.000000   1459  1459     1459        1459      1457      1459      1459         1459       1459       1459     1459       1459  1459.000000  1459.000000  1459.000000   1459.000000      1459     1459        1458        1458       1443  1444.000000      1459      1459       1459     1459     1459         1459         1459  1458.000000         1459  1458.000000  1458.000000  1458.000000    1459      1459       1459       1459  1459.000000  1459.000000   1459.000000  1459.000000   1457.000000   1457.000000  1459.000000  1459.000000   1459.000000   1459.000000        1458   1459.000000       1457  1459.00000        1459       1459  1381.000000         1459  1458.000000  1458.000000       1459       1459       1459  1459.000000  1459.000000    1459.000000  1459.000000  1459.000000  1459.000000   1459  1459        1459   1459.000000  1459.000000  1459.000000     1458          1459\n",
            "unique          NaN          NaN        5          NaN           NaN      2     3        4           4         1         5         3           25          9          5        5          7          NaN          NaN          NaN           NaN         6        4          13          15          4          NaN         4         5          7        5        5            5            7          NaN            7          NaN          NaN          NaN       4         5          2          4          NaN          NaN           NaN          NaN           NaN           NaN          NaN          NaN           NaN           NaN           4           NaN          7         NaN           6          7          NaN            4          NaN          NaN          5          6          3          NaN          NaN            NaN          NaN          NaN          NaN      3     5           4           NaN          NaN          NaN        9             6\n",
            "top             NaN          NaN       RL          NaN           NaN   Pave    NO      Reg         Lvl    AllPub    Inside       Gtl        NAmes       Norm       Norm     1Fam     1Story          NaN          NaN          NaN           NaN     Gable  CompShg     VinylSd     VinylSd       None          NaN        TA        TA      PConc       TA       TA           No          GLQ          NaN          Unf          NaN          NaN          NaN    GasA        Ex          Y      SBrkr          NaN          NaN           NaN          NaN           NaN           NaN          NaN          NaN           NaN           NaN          TA           NaN        Typ         NaN          NO     Attchd          NaN          Unf          NaN          NaN         TA         TA          Y          NaN          NaN            NaN          NaN          NaN          NaN     NO    NO          NO           NaN          NaN          NaN       WD        Normal\n",
            "freq            NaN          NaN     1114          NaN           NaN   1453  1352      934        1311      1457      1081      1396          218       1251       1444     1205        745          NaN          NaN          NaN           NaN      1169     1442         510         510        878          NaN       892      1256        660      634     1295          951          431          NaN         1237          NaN          NaN          NaN    1446       752       1358       1337          NaN          NaN           NaN          NaN           NaN           NaN          NaN          NaN           NaN           NaN         757           NaN       1357         NaN         730        853          NaN          625          NaN          NaN       1293       1328       1301          NaN          NaN            NaN          NaN          NaN          NaN   1456  1169        1408           NaN          NaN          NaN     1258          1204\n",
            "mean    2190.000000    57.378341      NaN    68.580357   9819.161069    NaN   NaN      NaN         NaN       NaN       NaN       NaN          NaN        NaN        NaN      NaN        NaN     6.078821     5.553804  1971.357779   1983.662783       NaN      NaN         NaN         NaN        NaN   100.709141       NaN       NaN        NaN      NaN      NaN          NaN          NaN   439.203704          NaN    52.619342   554.294925  1046.117970     NaN       NaN        NaN        NaN  1156.534613   325.967786      3.543523  1486.045922      0.434454      0.065202     1.570939     0.377656      2.854010      1.042495         NaN      6.385195        NaN     0.58122         NaN        NaN  1977.721217          NaN     1.766118   472.768861        NaN        NaN        NaN    93.174777    48.313914      24.243317     1.794380    17.064428     1.744345    NaN   NaN         NaN     58.167923     6.104181  2007.769705      NaN           NaN\n",
            "std      421.321334    42.746880      NaN    22.376841   4955.517327    NaN   NaN      NaN         NaN       NaN       NaN       NaN          NaN        NaN        NaN      NaN        NaN     1.436812     1.113740    30.390071     21.130467       NaN      NaN         NaN         NaN        NaN   177.625900       NaN       NaN        NaN      NaN      NaN          NaN          NaN   455.268042          NaN   176.753926   437.260486   442.898624     NaN       NaN        NaN        NaN   398.165820   420.610226     44.043251   485.566099      0.530648      0.252468     0.555190     0.503017      0.829788      0.208472         NaN      1.508895        NaN     0.64742         NaN        NaN    26.431175          NaN     0.775945   217.048611        NaN        NaN        NaN   127.744882    68.883364      67.227765    20.207842    56.609763    30.491646    NaN   NaN         NaN    630.806978     2.722432     1.301740      NaN           NaN\n",
            "min     1461.000000    20.000000      NaN    21.000000   1470.000000    NaN   NaN      NaN         NaN       NaN       NaN       NaN          NaN        NaN        NaN      NaN        NaN     1.000000     1.000000  1879.000000   1950.000000       NaN      NaN         NaN         NaN        NaN     0.000000       NaN       NaN        NaN      NaN      NaN          NaN          NaN     0.000000          NaN     0.000000     0.000000     0.000000     NaN       NaN        NaN        NaN   407.000000     0.000000      0.000000   407.000000      0.000000      0.000000     0.000000     0.000000      0.000000      0.000000         NaN      3.000000        NaN     0.00000         NaN        NaN  1895.000000          NaN     0.000000     0.000000        NaN        NaN        NaN     0.000000     0.000000       0.000000     0.000000     0.000000     0.000000    NaN   NaN         NaN      0.000000     1.000000  2006.000000      NaN           NaN\n",
            "25%     1825.500000    20.000000      NaN    58.000000   7391.000000    NaN   NaN      NaN         NaN       NaN       NaN       NaN          NaN        NaN        NaN      NaN        NaN     5.000000     5.000000  1953.000000   1963.000000       NaN      NaN         NaN         NaN        NaN     0.000000       NaN       NaN        NaN      NaN      NaN          NaN          NaN     0.000000          NaN     0.000000   219.250000   784.000000     NaN       NaN        NaN        NaN   873.500000     0.000000      0.000000  1117.500000      0.000000      0.000000     1.000000     0.000000      2.000000      1.000000         NaN      5.000000        NaN     0.00000         NaN        NaN  1959.000000          NaN     1.000000   318.000000        NaN        NaN        NaN     0.000000     0.000000       0.000000     0.000000     0.000000     0.000000    NaN   NaN         NaN      0.000000     4.000000  2007.000000      NaN           NaN\n",
            "50%     2190.000000    50.000000      NaN    67.000000   9399.000000    NaN   NaN      NaN         NaN       NaN       NaN       NaN          NaN        NaN        NaN      NaN        NaN     6.000000     5.000000  1973.000000   1992.000000       NaN      NaN         NaN         NaN        NaN     0.000000       NaN       NaN        NaN      NaN      NaN          NaN          NaN   350.500000          NaN     0.000000   460.000000   988.000000     NaN       NaN        NaN        NaN  1079.000000     0.000000      0.000000  1432.000000      0.000000      0.000000     2.000000     0.000000      3.000000      1.000000         NaN      6.000000        NaN     0.00000         NaN        NaN  1979.000000          NaN     2.000000   480.000000        NaN        NaN        NaN     0.000000    28.000000       0.000000     0.000000     0.000000     0.000000    NaN   NaN         NaN      0.000000     6.000000  2008.000000      NaN           NaN\n",
            "75%     2554.500000    70.000000      NaN    80.000000  11517.500000    NaN   NaN      NaN         NaN       NaN       NaN       NaN          NaN        NaN        NaN      NaN        NaN     7.000000     6.000000  2001.000000   2004.000000       NaN      NaN         NaN         NaN        NaN   164.000000       NaN       NaN        NaN      NaN      NaN          NaN          NaN   753.500000          NaN     0.000000   797.750000  1305.000000     NaN       NaN        NaN        NaN  1382.500000   676.000000      0.000000  1721.000000      1.000000      0.000000     2.000000     1.000000      3.000000      1.000000         NaN      7.000000        NaN     1.00000         NaN        NaN  2002.000000          NaN     2.000000   576.000000        NaN        NaN        NaN   168.000000    72.000000       0.000000     0.000000     0.000000     0.000000    NaN   NaN         NaN      0.000000     8.000000  2009.000000      NaN           NaN\n",
            "max     2919.000000   190.000000      NaN   200.000000  56600.000000    NaN   NaN      NaN         NaN       NaN       NaN       NaN          NaN        NaN        NaN      NaN        NaN    10.000000     9.000000  2010.000000   2010.000000       NaN      NaN         NaN         NaN        NaN  1290.000000       NaN       NaN        NaN      NaN      NaN          NaN          NaN  4010.000000          NaN  1526.000000  2140.000000  5095.000000     NaN       NaN        NaN        NaN  5095.000000  1862.000000   1064.000000  5095.000000      3.000000      2.000000     4.000000     2.000000      6.000000      2.000000         NaN     15.000000        NaN     4.00000         NaN        NaN  2207.000000          NaN     5.000000  1488.000000        NaN        NaN        NaN  1424.000000   742.000000    1012.000000   360.000000   576.000000   800.000000    NaN   NaN         NaN  17000.000000    12.000000  2010.000000      NaN           NaN\n"
          ],
          "name": "stdout"
        }
      ]
    },
    {
      "cell_type": "code",
      "metadata": {
        "id": "Ci1GRjSsBP84",
        "colab_type": "code",
        "outputId": "71a42cd4-647c-4edd-ccf5-e223864851e4",
        "colab": {
          "base_uri": "https://localhost:8080/",
          "height": 34
        }
      },
      "source": [
        "#extracting target column before checking for missing values.\n",
        "Y_train = train_data[\"SalePrice\"]\n",
        "#dropping target column from train_data\n",
        "train_data = train_data.drop([\"SalePrice\"], axis = 1)\n",
        "\n",
        "print(train_data.shape)\n"
      ],
      "execution_count": 5,
      "outputs": [
        {
          "output_type": "stream",
          "text": [
            "(1460, 80)\n"
          ],
          "name": "stdout"
        }
      ]
    },
    {
      "cell_type": "code",
      "metadata": {
        "id": "BZ2lpp9sCTF2",
        "colab_type": "code",
        "outputId": "8701e964-c0d9-4588-c9de-b7cdad604510",
        "colab": {
          "base_uri": "https://localhost:8080/",
          "height": 71
        }
      },
      "source": [
        "#Dropping columns with lots of missing values\n",
        "#combining train and test data for this purpose to ensure consistency.\n",
        "combined_data = pd.concat([train_data, test_data], keys = [0,1])\n",
        "\n",
        "#Looking at column null values count.\n",
        "colNullValDF = combined_data.isnull().sum().to_frame()\n",
        "print(colNullValDF.T)\n",
        "colNullValDF.to_csv(r'/gdrive/My Drive/Assignments/TeamAssignment1/ColNullVal.csv')"
      ],
      "execution_count": 59,
      "outputs": [
        {
          "output_type": "stream",
          "text": [
            "   Id  MSSubClass  MSZoning  LotFrontage  LotArea  Street  Alley  LotShape  LandContour  Utilities  LotConfig  LandSlope  Neighborhood  Condition1  Condition2  BldgType  HouseStyle  OverallQual  OverallCond  YearBuilt  YearRemodAdd  RoofStyle  RoofMatl  Exterior1st  Exterior2nd  MasVnrType  MasVnrArea  ExterQual  ExterCond  Foundation  BsmtQual  BsmtCond  BsmtExposure  BsmtFinType1  BsmtFinSF1  BsmtFinType2  BsmtFinSF2  BsmtUnfSF  TotalBsmtSF  Heating  HeatingQC  CentralAir  Electrical  1stFlrSF  2ndFlrSF  LowQualFinSF  GrLivArea  BsmtFullBath  BsmtHalfBath  FullBath  HalfBath  BedroomAbvGr  KitchenAbvGr  KitchenQual  TotRmsAbvGrd  Functional  Fireplaces  FireplaceQu  GarageType  GarageYrBlt  GarageFinish  GarageCars  GarageArea  GarageQual  GarageCond  PavedDrive  WoodDeckSF  OpenPorchSF  EnclosedPorch  3SsnPorch  ScreenPorch  PoolArea  PoolQC  Fence  MiscFeature  MiscVal  MoSold  YrSold  SaleType  SaleCondition\n",
            "0   0           0         4          486        0       0      0         0            0          2          0          0             0           0           0         0           0            0            0          0             0          0         0            1            1          24          23          0          0           0         0         0             0             0           1             0           1          1            1        0          0           0           1         0         0             0          0             2             2         0         0             0             0            1             0           2           0            0           0          159             0           1           1           0           0           0           0            0              0          0            0         0       0      0            0        0       0       0         1              0\n"
          ],
          "name": "stdout"
        }
      ]
    },
    {
      "cell_type": "code",
      "metadata": {
        "id": "hdWDA5kHjoue",
        "colab_type": "code",
        "outputId": "ad55cf32-61fb-4b55-fbce-e20b3762a69f",
        "colab": {
          "base_uri": "https://localhost:8080/",
          "height": 360
        }
      },
      "source": [
        "#Establishing threshold to drop the columns\n",
        "threshold = int(0.20*(combined_data.shape[0]))\n",
        "print(threshold)\n",
        "\n",
        "#drop columns that have less than threshold number of non_nans\n",
        "TestTrainWithColDrop = combined_data.dropna(thresh= threshold, axis = 1)\n",
        "print(TestTrainWithColDrop.shape)\n",
        "print(\"\\n\\nMissing Values:\")\n",
        "#reverifying columns with missing values\n",
        "print(TestTrainWithColDrop.isnull().sum().to_frame().T)\n",
        "print(\"\\n\\nValue Counts:\")\n",
        "#understanding column datatypes\n",
        "print(TestTrainWithColDrop.dtypes.value_counts())\n",
        "print(\"\\n\\nColumn Data Types determined by python:\")\n",
        "print(pd.DataFrame(TestTrainWithColDrop.dtypes).T)\n",
        "pd.DataFrame(TestTrainWithColDrop.dtypes).to_csv(r'/gdrive/My Drive/Assignments/TeamAssignment1/columnDataType.csv')"
      ],
      "execution_count": 7,
      "outputs": [
        {
          "output_type": "stream",
          "text": [
            "583\n",
            "(2919, 80)\n",
            "\n",
            "\n",
            "Missing Values:\n",
            "   Id  MSSubClass  MSZoning  LotFrontage  LotArea  Street  Alley  LotShape  LandContour  Utilities  LotConfig  LandSlope  Neighborhood  Condition1  Condition2  BldgType  HouseStyle  OverallQual  OverallCond  YearBuilt  YearRemodAdd  RoofStyle  RoofMatl  Exterior1st  Exterior2nd  MasVnrType  MasVnrArea  ExterQual  ExterCond  Foundation  BsmtQual  BsmtCond  BsmtExposure  BsmtFinType1  BsmtFinSF1  BsmtFinType2  BsmtFinSF2  BsmtUnfSF  TotalBsmtSF  Heating  HeatingQC  CentralAir  Electrical  1stFlrSF  2ndFlrSF  LowQualFinSF  GrLivArea  BsmtFullBath  BsmtHalfBath  FullBath  HalfBath  BedroomAbvGr  KitchenAbvGr  KitchenQual  TotRmsAbvGrd  Functional  Fireplaces  FireplaceQu  GarageType  GarageYrBlt  GarageFinish  GarageCars  GarageArea  GarageQual  GarageCond  PavedDrive  WoodDeckSF  OpenPorchSF  EnclosedPorch  3SsnPorch  ScreenPorch  PoolArea  PoolQC  Fence  MiscFeature  MiscVal  MoSold  YrSold  SaleType  SaleCondition\n",
            "0   0           0         4          486        0       0      0         0            0          2          0          0             0           0           0         0           0            0            0          0             0          0         0            1            1          24          23          0          0           0         0         0             0             0           1             0           1          1            1        0          0           0           1         0         0             0          0             2             2         0         0             0             0            1             0           2           0            0           0          159             0           1           1           0           0           0           0            0              0          0            0         0       0      0            0        0       0       0         1              0\n",
            "\n",
            "\n",
            "Value Counts:\n",
            "object     43\n",
            "int64      26\n",
            "float64    11\n",
            "dtype: int64\n",
            "\n",
            "\n",
            "Column Data Types determined by python:\n",
            "      Id MSSubClass MSZoning LotFrontage LotArea  Street   Alley LotShape LandContour Utilities LotConfig LandSlope Neighborhood Condition1 Condition2 BldgType HouseStyle OverallQual OverallCond YearBuilt YearRemodAdd RoofStyle RoofMatl Exterior1st Exterior2nd MasVnrType MasVnrArea ExterQual ExterCond Foundation BsmtQual BsmtCond BsmtExposure BsmtFinType1 BsmtFinSF1 BsmtFinType2 BsmtFinSF2 BsmtUnfSF TotalBsmtSF Heating HeatingQC CentralAir Electrical 1stFlrSF 2ndFlrSF LowQualFinSF GrLivArea BsmtFullBath BsmtHalfBath FullBath HalfBath BedroomAbvGr KitchenAbvGr KitchenQual TotRmsAbvGrd Functional Fireplaces FireplaceQu GarageType GarageYrBlt GarageFinish GarageCars GarageArea GarageQual GarageCond PavedDrive WoodDeckSF OpenPorchSF EnclosedPorch 3SsnPorch ScreenPorch PoolArea  PoolQC   Fence MiscFeature MiscVal MoSold YrSold SaleType SaleCondition\n",
            "0  int64      int64   object     float64   int64  object  object   object      object    object    object    object       object     object     object   object     object       int64       int64     int64        int64    object   object      object      object     object    float64    object    object     object   object   object       object       object    float64       object    float64   float64     float64  object    object     object     object    int64    int64        int64     int64      float64      float64    int64    int64        int64        int64      object        int64     object      int64      object     object     float64       object    float64    float64     object     object     object      int64       int64         int64     int64       int64    int64  object  object      object   int64  int64  int64   object        object\n"
          ],
          "name": "stdout"
        }
      ]
    },
    {
      "cell_type": "code",
      "metadata": {
        "id": "-agXVZAvrM4j",
        "colab_type": "code",
        "outputId": "7fb1fdc8-47d8-4f32-c412-425648fb843a",
        "colab": {
          "base_uri": "https://localhost:8080/",
          "height": 153
        }
      },
      "source": [
        "#filling the missing values for nan in numeric columns\n",
        "\"\"\"\n",
        "of the columns identified as integers MSSubClass, OveralQual and \n",
        "OverallCond are not integer type. They are actually categorical.\n",
        "Therefore its important to first remove them before numeric columns filling\n",
        "\"\"\"\n",
        "print(TestTrainWithColDrop.shape)\n",
        "num_combined_data = TestTrainWithColDrop.select_dtypes(include=['int','float64'])\n",
        "num_combined_data = num_combined_data.drop(columns = ['MSSubClass','OverallQual','OverallCond'], axis = 1)\n",
        "ActuallyCategorical = pd.concat([TestTrainWithColDrop['MSSubClass'],TestTrainWithColDrop['OverallQual'],TestTrainWithColDrop['OverallCond']], axis = 1)\n",
        "print(ActuallyCategorical.head())\n",
        "print(num_combined_data.shape)\n"
      ],
      "execution_count": 8,
      "outputs": [
        {
          "output_type": "stream",
          "text": [
            "(2919, 80)\n",
            "     MSSubClass  OverallQual  OverallCond\n",
            "0 0          60            7            5\n",
            "  1          20            6            8\n",
            "  2          60            7            5\n",
            "  3          70            7            5\n",
            "  4          60            8            5\n",
            "(2919, 34)\n"
          ],
          "name": "stdout"
        }
      ]
    },
    {
      "cell_type": "code",
      "metadata": {
        "id": "4CDRrgL36jqA",
        "colab_type": "code",
        "outputId": "044853ae-c1c4-4bde-a65c-e370b5d89d14",
        "colab": {
          "base_uri": "https://localhost:8080/",
          "height": 71
        }
      },
      "source": [
        "#Now giving mean values for nan in numeric columns\n",
        "numeric = num_combined_data.select_dtypes(include=['int','float64']).columns\n",
        "for num in numeric:\n",
        "  num_combined_data[num] = num_combined_data[num].fillna(num_combined_data[num].median())\n",
        "\n",
        "#checking missing values in num_combined_data\n",
        "num_combined_dataDF = num_combined_data.isnull().sum().to_frame()\n",
        "print(num_combined_dataDF.T)"
      ],
      "execution_count": 12,
      "outputs": [
        {
          "output_type": "stream",
          "text": [
            "   Id  LotFrontage  LotArea  YearBuilt  YearRemodAdd  MasVnrArea  BsmtFinSF1  BsmtFinSF2  BsmtUnfSF  TotalBsmtSF  1stFlrSF  2ndFlrSF  LowQualFinSF  GrLivArea  BsmtFullBath  BsmtHalfBath  FullBath  HalfBath  BedroomAbvGr  KitchenAbvGr  TotRmsAbvGrd  Fireplaces  GarageYrBlt  GarageCars  GarageArea  WoodDeckSF  OpenPorchSF  EnclosedPorch  3SsnPorch  ScreenPorch  PoolArea  MiscVal  MoSold  YrSold\n",
            "0   0            0        0          0             0           0           0           0          0            0         0         0             0          0             0             0         0         0             0             0             0           0            0           0           0           0            0              0          0            0         0        0       0       0\n"
          ],
          "name": "stdout"
        }
      ]
    },
    {
      "cell_type": "code",
      "metadata": {
        "id": "K-oA1vsP6BwF",
        "colab_type": "code",
        "outputId": "6da1614d-e299-4fce-f79e-72dea7b7d42d",
        "colab": {
          "base_uri": "https://localhost:8080/",
          "height": 139
        }
      },
      "source": [
        "#Filling missing values for categorical columns\n",
        "#Obtaining categorical columns identified by python\n",
        "catColObtained = TestTrainWithColDrop.select_dtypes(include = ['object'])\n",
        "#First combining the previously excluded cat variables labeled as numeric by python\n",
        "cat_combined_data = pd.concat([ActuallyCategorical, catColObtained],axis = 1)\n",
        "print(cat_combined_data.shape)\n",
        "print(\"\\n\")\n",
        "\n",
        "#checking missing values in cat_combined_data\n",
        "print(cat_combined_data.isnull().sum().to_frame().T)\n",
        "#checking columns\n",
        "print(catColObtained.columns)\n"
      ],
      "execution_count": 21,
      "outputs": [
        {
          "output_type": "stream",
          "text": [
            "(2919, 46)\n",
            "\n",
            "\n",
            "   MSSubClass  OverallQual  OverallCond  MSZoning  Street  Alley  LotShape  LandContour  Utilities  LotConfig  LandSlope  Neighborhood  Condition1  Condition2  BldgType  HouseStyle  RoofStyle  RoofMatl  Exterior1st  Exterior2nd  MasVnrType  ExterQual  ExterCond  Foundation  BsmtQual  BsmtCond  BsmtExposure  BsmtFinType1  BsmtFinType2  Heating  HeatingQC  CentralAir  Electrical  KitchenQual  Functional  FireplaceQu  GarageType  GarageFinish  GarageQual  GarageCond  PavedDrive  PoolQC  Fence  MiscFeature  SaleType  SaleCondition\n",
            "0           0            0            0         4       0      0         0            0          2          0          0             0           0           0         0           0          0         0            1            1          24          0          0           0         0         0             0             0             0        0          0           0           1            1           2            0           0             0           0           0           0       0      0            0         1              0\n",
            "Index(['MSZoning', 'Street', 'Alley', 'LotShape', 'LandContour', 'Utilities', 'LotConfig', 'LandSlope', 'Neighborhood', 'Condition1', 'Condition2', 'BldgType', 'HouseStyle', 'RoofStyle', 'RoofMatl', 'Exterior1st', 'Exterior2nd', 'MasVnrType', 'ExterQual', 'ExterCond', 'Foundation', 'BsmtQual', 'BsmtCond', 'BsmtExposure', 'BsmtFinType1', 'BsmtFinType2', 'Heating', 'HeatingQC', 'CentralAir', 'Electrical', 'KitchenQual', 'Functional', 'FireplaceQu', 'GarageType', 'GarageFinish', 'GarageQual', 'GarageCond', 'PavedDrive', 'PoolQC', 'Fence', 'MiscFeature', 'SaleType', 'SaleCondition'], dtype='object')\n"
          ],
          "name": "stdout"
        }
      ]
    },
    {
      "cell_type": "code",
      "metadata": {
        "id": "mTLeLXF85c2h",
        "colab_type": "code",
        "outputId": "6c3d1f54-ec68-49e3-be0f-1f1da37ef4f1",
        "colab": {
          "base_uri": "https://localhost:8080/",
          "height": 190
        }
      },
      "source": [
        "\n",
        "#Filling mode values for nan in categorical columns in the existing NewTestTrainWithColDrop[num]\n",
        "cat_cols = cat_combined_data.columns\n",
        "for cols in cat_cols:\n",
        "    cat_combined_data[cols] = cat_combined_data[cols].fillna(cat_combined_data[cols].mode)\n",
        "\n",
        "#Checking the cat_combined data after filling\n",
        "print(cat_combined_data.isnull().sum().to_frame().T)\n",
        "print(\"\\nData\\n\")\n",
        "#print(cat_combined_data.head())\n",
        "print(cat_combined_data.shape)\n",
        "print(\"\\n\\n\")"
      ],
      "execution_count": 22,
      "outputs": [
        {
          "output_type": "stream",
          "text": [
            "   MSSubClass  OverallQual  OverallCond  MSZoning  Street  Alley  LotShape  LandContour  Utilities  LotConfig  LandSlope  Neighborhood  Condition1  Condition2  BldgType  HouseStyle  RoofStyle  RoofMatl  Exterior1st  Exterior2nd  MasVnrType  ExterQual  ExterCond  Foundation  BsmtQual  BsmtCond  BsmtExposure  BsmtFinType1  BsmtFinType2  Heating  HeatingQC  CentralAir  Electrical  KitchenQual  Functional  FireplaceQu  GarageType  GarageFinish  GarageQual  GarageCond  PavedDrive  PoolQC  Fence  MiscFeature  SaleType  SaleCondition\n",
            "0           0            0            0         0       0      0         0            0          0          0          0             0           0           0         0           0          0         0            0            0           0          0          0           0         0         0             0             0             0        0          0           0           0            0           0            0           0             0           0           0           0       0      0            0         0              0\n",
            "\n",
            "Data\n",
            "\n",
            "(2919, 46)\n",
            "\n",
            "\n",
            "\n"
          ],
          "name": "stdout"
        }
      ]
    },
    {
      "cell_type": "code",
      "metadata": {
        "id": "YSH7IBgjQmDq",
        "colab_type": "code",
        "colab": {}
      },
      "source": [
        "#Hot encoding all the string type/boolean categorical variabes\n",
        "categoricalFeatures =['MSZoning', 'Street', 'Alley', 'LotShape', 'LandContour', 'Utilities', 'LotConfig', 'LandSlope', 'Neighborhood', 'Condition1', 'Condition2', 'BldgType', 'HouseStyle', 'RoofStyle', 'RoofMatl', 'Exterior1st', 'Exterior2nd', 'MasVnrType', 'ExterQual', 'ExterCond', 'Foundation', 'BsmtQual', 'BsmtCond', 'BsmtExposure', 'BsmtFinType1', 'BsmtFinType2', 'Heating', 'HeatingQC', 'CentralAir', 'Electrical', 'KitchenQual', 'Functional', 'FireplaceQu', 'GarageType', 'GarageFinish', 'GarageQual', 'GarageCond', 'PavedDrive', 'PoolQC', 'Fence', 'MiscFeature', 'SaleType', 'SaleCondition']\n",
        "catColObtained = pd.get_dummies(catColObtained, columns = categoricalFeatures)\n"
      ],
      "execution_count": 0,
      "outputs": []
    },
    {
      "cell_type": "code",
      "metadata": {
        "id": "7ShUMFGJY3vC",
        "colab_type": "code",
        "outputId": "faafb042-8d0d-4261-b014-12ee9fa72037",
        "colab": {
          "base_uri": "https://localhost:8080/",
          "height": 768
        }
      },
      "source": [
        "\n",
        "#combining encoded categories with actual categoris \n",
        "encoded_cat_columns = pd.concat([ActuallyCategorical,catColObtained], axis = 1)\n",
        "print(encoded_cat_columns.shape)\n",
        "\n",
        "#encoding the numeric categories\n",
        "num_cat = ['MSSubClass', 'OverallQual', 'OverallCond']\n",
        "encoded_cat_combined_data = pd.get_dummies(encoded_cat_columns, columns = num_cat)\n",
        "\n",
        "print(encoded_cat_combined_data.head())\n",
        "print(encoded_cat_combined_data.shape)"
      ],
      "execution_count": 24,
      "outputs": [
        {
          "output_type": "stream",
          "text": [
            "(2919, 270)\n",
            "     MSZoning_C (all)  MSZoning_FV  MSZoning_RH  MSZoning_RL  MSZoning_RM  Street_Grvl  Street_Pave  Alley_Grvl  Alley_NO  Alley_Pave  LotShape_IR1  LotShape_IR2  LotShape_IR3  LotShape_Reg  LandContour_Bnk  LandContour_HLS  LandContour_Low  LandContour_Lvl  Utilities_AllPub  Utilities_NoSeWa  LotConfig_Corner  LotConfig_CulDSac  LotConfig_FR2  LotConfig_FR3  LotConfig_Inside  LandSlope_Gtl  LandSlope_Mod  LandSlope_Sev  Neighborhood_Blmngtn  Neighborhood_Blueste  Neighborhood_BrDale  Neighborhood_BrkSide  Neighborhood_ClearCr  Neighborhood_CollgCr  Neighborhood_Crawfor  Neighborhood_Edwards  Neighborhood_Gilbert  Neighborhood_IDOTRR  Neighborhood_MeadowV  Neighborhood_Mitchel  Neighborhood_NAmes  Neighborhood_NPkVill  Neighborhood_NWAmes  Neighborhood_NoRidge  Neighborhood_NridgHt  Neighborhood_OldTown  Neighborhood_SWISU  Neighborhood_Sawyer  Neighborhood_SawyerW  Neighborhood_Somerst  Neighborhood_StoneBr  Neighborhood_Timber  Neighborhood_Veenker  Condition1_Artery  \\\n",
            "0 0                 0            0            0            1            0            0            1           0         1           0             0             0             0             1                0                0                0                1                 1                 0                 0                  0              0              0                 1              1              0              0                     0                     0                    0                     0                     0                     1                     0                     0                     0                    0                     0                     0                   0                     0                    0                     0                     0                     0                   0                    0                     0                     0                     0                    0                     0                  0   \n",
            "  1                 0            0            0            1            0            0            1           0         1           0             0             0             0             1                0                0                0                1                 1                 0                 0                  0              1              0                 0              1              0              0                     0                     0                    0                     0                     0                     0                     0                     0                     0                    0                     0                     0                   0                     0                    0                     0                     0                     0                   0                    0                     0                     0                     0                    0                     1                  0   \n",
            "  2                 0            0            0            1            0            0            1           0         1           0             1             0             0             0                0                0                0                1                 1                 0                 0                  0              0              0                 1              1              0              0                     0                     0                    0                     0                     0                     1                     0                     0                     0                    0                     0                     0                   0                     0                    0                     0                     0                     0                   0                    0                     0                     0                     0                    0                     0                  0   \n",
            "  3                 0            0            0            1            0            0            1           0         1           0             1             0             0             0                0                0                0                1                 1                 0                 1                  0              0              0                 0              1              0              0                     0                     0                    0                     0                     0                     0                     1                     0                     0                    0                     0                     0                   0                     0                    0                     0                     0                     0                   0                    0                     0                     0                     0                    0                     0                  0   \n",
            "  4                 0            0            0            1            0            0            1           0         1           0             1             0             0             0                0                0                0                1                 1                 0                 0                  0              1              0                 0              1              0              0                     0                     0                    0                     0                     0                     0                     0                     0                     0                    0                     0                     0                   0                     0                    0                     1                     0                     0                   0                    0                     0                     0                     0                    0                     0                  0   \n",
            "\n",
            "     Condition1_Feedr  Condition1_Norm  Condition1_PosA  Condition1_PosN  Condition1_RRAe  Condition1_RRAn  Condition1_RRNe  Condition1_RRNn  Condition2_Artery  Condition2_Feedr  Condition2_Norm  Condition2_PosA  Condition2_PosN  Condition2_RRAe  Condition2_RRAn  Condition2_RRNn  BldgType_1Fam  BldgType_2fmCon  BldgType_Duplex  BldgType_Twnhs  BldgType_TwnhsE  HouseStyle_1.5Fin  HouseStyle_1.5Unf  HouseStyle_1Story  HouseStyle_2.5Fin  HouseStyle_2.5Unf  HouseStyle_2Story  HouseStyle_SFoyer  HouseStyle_SLvl  RoofStyle_Flat  RoofStyle_Gable  RoofStyle_Gambrel  RoofStyle_Hip  RoofStyle_Mansard  RoofStyle_Shed  RoofMatl_ClyTile  RoofMatl_CompShg  RoofMatl_Membran  RoofMatl_Metal  RoofMatl_Roll  RoofMatl_Tar&Grv  RoofMatl_WdShake  RoofMatl_WdShngl  Exterior1st_AsbShng  Exterior1st_AsphShn  Exterior1st_BrkComm  Exterior1st_BrkFace  Exterior1st_CBlock  Exterior1st_CemntBd  Exterior1st_HdBoard  Exterior1st_ImStucc  Exterior1st_MetalSd  Exterior1st_Plywood  Exterior1st_Stone  \\\n",
            "0 0                 0                1                0                0                0                0                0                0                  0                 0                1                0                0                0                0                0              1                0                0               0                0                  0                  0                  0                  0                  0                  1                  0                0               0                1                  0              0                  0               0                 0                 1                 0               0              0                 0                 0                 0                    0                    0                    0                    0                   0                    0                    0                    0                    0                    0                  0   \n",
            "  1                 1                0                0                0                0                0                0                0                  0                 0                1                0                0                0                0                0              1                0                0               0                0                  0                  0                  1                  0                  0                  0                  0                0               0                1                  0              0                  0               0                 0                 1                 0               0              0                 0                 0                 0                    0                    0                    0                    0                   0                    0                    0                    0                    1                    0                  0   \n",
            "  2                 0                1                0                0                0                0                0                0                  0                 0                1                0                0                0                0                0              1                0                0               0                0                  0                  0                  0                  0                  0                  1                  0                0               0                1                  0              0                  0               0                 0                 1                 0               0              0                 0                 0                 0                    0                    0                    0                    0                   0                    0                    0                    0                    0                    0                  0   \n",
            "  3                 0                1                0                0                0                0                0                0                  0                 0                1                0                0                0                0                0              1                0                0               0                0                  0                  0                  0                  0                  0                  1                  0                0               0                1                  0              0                  0               0                 0                 1                 0               0              0                 0                 0                 0                    0                    0                    0                    0                   0                    0                    0                    0                    0                    0                  0   \n",
            "  4                 0                1                0                0                0                0                0                0                  0                 0                1                0                0                0                0                0              1                0                0               0                0                  0                  0                  0                  0                  0                  1                  0                0               0                1                  0              0                  0               0                 0                 1                 0               0              0                 0                 0                 0                    0                    0                    0                    0                   0                    0                    0                    0                    0                    0                  0   \n",
            "\n",
            "     Exterior1st_Stucco  Exterior1st_VinylSd  Exterior1st_Wd Sdng  Exterior1st_WdShing  Exterior2nd_AsbShng  Exterior2nd_AsphShn  Exterior2nd_Brk Cmn  Exterior2nd_BrkFace  Exterior2nd_CBlock  Exterior2nd_CmentBd  Exterior2nd_HdBoard  Exterior2nd_ImStucc  Exterior2nd_MetalSd  Exterior2nd_Other  Exterior2nd_Plywood  Exterior2nd_Stone  Exterior2nd_Stucco  Exterior2nd_VinylSd  Exterior2nd_Wd Sdng  Exterior2nd_Wd Shng  MasVnrType_BrkCmn  MasVnrType_BrkFace  MasVnrType_None  MasVnrType_Stone  ExterQual_Ex  ExterQual_Fa  ExterQual_Gd  ExterQual_TA  ExterCond_Ex  ExterCond_Fa  ExterCond_Gd  ExterCond_Po  ExterCond_TA  Foundation_BrkTil  Foundation_CBlock  Foundation_PConc  Foundation_Pconc  Foundation_Slab  Foundation_Stone  Foundation_Wood  BsmtQual_Ex  BsmtQual_Fa  BsmtQual_Gd  BsmtQual_NO  BsmtQual_TA  BsmtCond_Fa  BsmtCond_Gd  BsmtCond_NO  BsmtCond_Po  BsmtCond_TA  BsmtExposure_Av  BsmtExposure_Gd  BsmtExposure_Mn  BsmtExposure_NO  BsmtExposure_No  BsmtFinType1_ALQ  BsmtFinType1_BLQ  \\\n",
            "0 0                   0                    1                    0                    0                    0                    0                    0                    0                   0                    0                    0                    0                    0                  0                    0                  0                   0                    1                    0                    0                  0                   1                0                 0             0             0             1             0             0             0             0             0             1                  0                  0                 1                 0                0                 0                0            0            0            1            0            0            0            0            0            0            1                0                0                0                0                1                 0                 0   \n",
            "  1                   0                    0                    0                    0                    0                    0                    0                    0                   0                    0                    0                    0                    1                  0                    0                  0                   0                    0                    0                    0                  0                   0                1                 0             0             0             0             1             0             0             0             0             1                  0                  1                 0                 0                0                 0                0            0            0            1            0            0            0            0            0            0            1                0                1                0                0                0                 1                 0   \n",
            "  2                   0                    1                    0                    0                    0                    0                    0                    0                   0                    0                    0                    0                    0                  0                    0                  0                   0                    1                    0                    0                  0                   1                0                 0             0             0             1             0             0             0             0             0             1                  0                  0                 1                 0                0                 0                0            0            0            1            0            0            0            0            0            0            1                0                0                1                0                0                 0                 0   \n",
            "  3                   0                    0                    1                    0                    0                    0                    0                    0                   0                    0                    0                    0                    0                  0                    0                  0                   0                    0                    0                    1                  0                   0                1                 0             0             0             0             1             0             0             0             0             1                  1                  0                 0                 0                0                 0                0            0            0            0            0            1            0            1            0            0            0                0                0                0                0                1                 1                 0   \n",
            "  4                   0                    1                    0                    0                    0                    0                    0                    0                   0                    0                    0                    0                    0                  0                    0                  0                   0                    1                    0                    0                  0                   1                0                 0             0             0             1             0             0             0             0             0             1                  0                  0                 1                 0                0                 0                0            0            0            1            0            0            0            0            0            0            1                1                0                0                0                0                 0                 0   \n",
            "\n",
            "     BsmtFinType1_GLQ  BsmtFinType1_LwQ  BsmtFinType1_NO  BsmtFinType1_Rec  BsmtFinType1_Unf  BsmtFinType2_ALQ  BsmtFinType2_BLQ  BsmtFinType2_GLQ  BsmtFinType2_LwQ  BsmtFinType2_NO  BsmtFinType2_Rec  BsmtFinType2_Unf  Heating_Floor  Heating_GasA  Heating_GasW  Heating_Grav  Heating_OthW  Heating_Wall  HeatingQC_Ex  HeatingQC_Fa  HeatingQC_Gd  HeatingQC_Po  HeatingQC_TA  CentralAir_N  CentralAir_Y  Electrical_FuseA  Electrical_FuseF  Electrical_FuseP  Electrical_Mix  Electrical_SBrkr  KitchenQual_Ex  KitchenQual_Fa  KitchenQual_Gd  KitchenQual_TA  Functional_Maj1  Functional_Maj2  Functional_Min1  Functional_Min2  Functional_Mod  Functional_Sev  Functional_Typ  FireplaceQu_Ex  FireplaceQu_Fa  FireplaceQu_Gd  FireplaceQu_NO  FireplaceQu_Po  FireplaceQu_TA  GarageType_2Types  GarageType_Attchd  GarageType_Basment  GarageType_BuiltIn  GarageType_CarPort  GarageType_Detchd  GarageType_NO  GarageFinish_Fin  GarageFinish_NO  GarageFinish_RFn  GarageFinish_Unf  GarageQual_Ex  GarageQual_Fa  \\\n",
            "0 0                 1                 0                0                 0                 0                 0                 0                 0                 0                0                 0                 1              0             1             0             0             0             0             1             0             0             0             0             0             1                 0                 0                 0               0                 1               0               0               1               0                0                0                0                0               0               0               1               0               0               0               1               0               0                  0                  1                   0                   0                   0                  0              0                 0                0                 1                 0              0              0   \n",
            "  1                 0                 0                0                 0                 0                 0                 0                 0                 0                0                 0                 1              0             1             0             0             0             0             1             0             0             0             0             0             1                 0                 0                 0               0                 1               0               0               0               1                0                0                0                0               0               0               1               0               0               0               0               0               1                  0                  1                   0                   0                   0                  0              0                 0                0                 1                 0              0              0   \n",
            "  2                 1                 0                0                 0                 0                 0                 0                 0                 0                0                 0                 1              0             1             0             0             0             0             1             0             0             0             0             0             1                 0                 0                 0               0                 1               0               0               1               0                0                0                0                0               0               0               1               0               0               0               0               0               1                  0                  1                   0                   0                   0                  0              0                 0                0                 1                 0              0              0   \n",
            "  3                 0                 0                0                 0                 0                 0                 0                 0                 0                0                 0                 1              0             1             0             0             0             0             0             0             1             0             0             0             1                 0                 0                 0               0                 1               0               0               1               0                0                0                0                0               0               0               1               0               0               1               0               0               0                  0                  0                   0                   0                   0                  1              0                 0                0                 0                 1              0              0   \n",
            "  4                 1                 0                0                 0                 0                 0                 0                 0                 0                0                 0                 1              0             1             0             0             0             0             1             0             0             0             0             0             1                 0                 0                 0               0                 1               0               0               1               0                0                0                0                0               0               0               1               0               0               0               0               0               1                  0                  1                   0                   0                   0                  0              0                 0                0                 1                 0              0              0   \n",
            "\n",
            "     GarageQual_Gd  GarageQual_NO  GarageQual_Po  GarageQual_TA  GarageCond_Ex  GarageCond_Fa  GarageCond_Gd  GarageCond_NO  GarageCond_Po  GarageCond_TA  PavedDrive_N  PavedDrive_P  PavedDrive_Y  PoolQC_Ex  PoolQC_Fa  PoolQC_Gd  PoolQC_NO  Fence_GdPrv  Fence_GdWo  Fence_MnPrv  Fence_MnWw  Fence_NO  MiscFeature_Gar2  MiscFeature_NO  MiscFeature_Othr  MiscFeature_Shed  MiscFeature_TenC  SaleType_COD  SaleType_CWD  SaleType_Con  SaleType_ConLD  SaleType_ConLI  SaleType_ConLw  SaleType_New  SaleType_Oth  SaleType_WD  SaleCondition_Abnorml  SaleCondition_AdjLand  SaleCondition_Alloca  SaleCondition_Family  SaleCondition_Normal  SaleCondition_Partial  MSSubClass_20  MSSubClass_30  MSSubClass_40  MSSubClass_45  MSSubClass_50  MSSubClass_60  MSSubClass_70  MSSubClass_75  MSSubClass_80  MSSubClass_85  MSSubClass_90  MSSubClass_120  MSSubClass_150  MSSubClass_160  MSSubClass_180  MSSubClass_190  OverallQual_1  OverallQual_2  OverallQual_3  OverallQual_4  OverallQual_5  OverallQual_6  \\\n",
            "0 0              0              0              0              1              0              0              0              0              0              1             0             0             1          0          0          0          1            0           0            0           0         1                 0               1                 0                 0                 0             0             0             0               0               0               0             0             0            1                      0                      0                     0                     0                     1                      0              0              0              0              0              0              1              0              0              0              0              0               0               0               0               0               0              0              0              0              0              0              0   \n",
            "  1              0              0              0              1              0              0              0              0              0              1             0             0             1          0          0          0          1            0           0            0           0         1                 0               1                 0                 0                 0             0             0             0               0               0               0             0             0            1                      0                      0                     0                     0                     1                      0              1              0              0              0              0              0              0              0              0              0              0               0               0               0               0               0              0              0              0              0              0              1   \n",
            "  2              0              0              0              1              0              0              0              0              0              1             0             0             1          0          0          0          1            0           0            0           0         1                 0               1                 0                 0                 0             0             0             0               0               0               0             0             0            1                      0                      0                     0                     0                     1                      0              0              0              0              0              0              1              0              0              0              0              0               0               0               0               0               0              0              0              0              0              0              0   \n",
            "  3              0              0              0              1              0              0              0              0              0              1             0             0             1          0          0          0          1            0           0            0           0         1                 0               1                 0                 0                 0             0             0             0               0               0               0             0             0            1                      1                      0                     0                     0                     0                      0              0              0              0              0              0              0              1              0              0              0              0               0               0               0               0               0              0              0              0              0              0              0   \n",
            "  4              0              0              0              1              0              0              0              0              0              1             0             0             1          0          0          0          1            0           0            0           0         1                 0               1                 0                 0                 0             0             0             0               0               0               0             0             0            1                      0                      0                     0                     0                     1                      0              0              0              0              0              0              1              0              0              0              0              0               0               0               0               0               0              0              0              0              0              0              0   \n",
            "\n",
            "     OverallQual_7  OverallQual_8  OverallQual_9  OverallQual_10  OverallCond_1  OverallCond_2  OverallCond_3  OverallCond_4  OverallCond_5  OverallCond_6  OverallCond_7  OverallCond_8  OverallCond_9  \n",
            "0 0              1              0              0               0              0              0              0              0              1              0              0              0              0  \n",
            "  1              0              0              0               0              0              0              0              0              0              0              0              1              0  \n",
            "  2              1              0              0               0              0              0              0              0              1              0              0              0              0  \n",
            "  3              1              0              0               0              0              0              0              0              1              0              0              0              0  \n",
            "  4              0              1              0               0              0              0              0              0              1              0              0              0              0  \n",
            "(2919, 302)\n"
          ],
          "name": "stdout"
        }
      ]
    },
    {
      "cell_type": "code",
      "metadata": {
        "id": "B17LZN6S_WmC",
        "colab_type": "code",
        "outputId": "663f0d23-25a6-4cb0-92b6-6a37fe02116d",
        "colab": {
          "base_uri": "https://localhost:8080/",
          "height": 134
        }
      },
      "source": [
        "#combining all the numeric and categorical columns \n",
        "final_combined_data = pd.concat([num_combined_data,encoded_cat_combined_data], axis = 1)\n",
        "print(final_combined_data.shape)\n",
        "\n",
        "#checking missing values for the final combined df\n",
        "pd.DataFrame(final_combined_data.isnull().sum()).T\n"
      ],
      "execution_count": 25,
      "outputs": [
        {
          "output_type": "stream",
          "text": [
            "(2919, 336)\n"
          ],
          "name": "stdout"
        },
        {
          "output_type": "execute_result",
          "data": {
            "text/html": [
              "<div>\n",
              "<style scoped>\n",
              "    .dataframe tbody tr th:only-of-type {\n",
              "        vertical-align: middle;\n",
              "    }\n",
              "\n",
              "    .dataframe tbody tr th {\n",
              "        vertical-align: top;\n",
              "    }\n",
              "\n",
              "    .dataframe thead th {\n",
              "        text-align: right;\n",
              "    }\n",
              "</style>\n",
              "<table border=\"1\" class=\"dataframe\">\n",
              "  <thead>\n",
              "    <tr style=\"text-align: right;\">\n",
              "      <th></th>\n",
              "      <th>Id</th>\n",
              "      <th>LotFrontage</th>\n",
              "      <th>LotArea</th>\n",
              "      <th>YearBuilt</th>\n",
              "      <th>YearRemodAdd</th>\n",
              "      <th>MasVnrArea</th>\n",
              "      <th>BsmtFinSF1</th>\n",
              "      <th>BsmtFinSF2</th>\n",
              "      <th>BsmtUnfSF</th>\n",
              "      <th>TotalBsmtSF</th>\n",
              "      <th>1stFlrSF</th>\n",
              "      <th>2ndFlrSF</th>\n",
              "      <th>LowQualFinSF</th>\n",
              "      <th>GrLivArea</th>\n",
              "      <th>BsmtFullBath</th>\n",
              "      <th>BsmtHalfBath</th>\n",
              "      <th>FullBath</th>\n",
              "      <th>HalfBath</th>\n",
              "      <th>BedroomAbvGr</th>\n",
              "      <th>KitchenAbvGr</th>\n",
              "      <th>TotRmsAbvGrd</th>\n",
              "      <th>Fireplaces</th>\n",
              "      <th>GarageYrBlt</th>\n",
              "      <th>GarageCars</th>\n",
              "      <th>GarageArea</th>\n",
              "      <th>WoodDeckSF</th>\n",
              "      <th>OpenPorchSF</th>\n",
              "      <th>EnclosedPorch</th>\n",
              "      <th>3SsnPorch</th>\n",
              "      <th>ScreenPorch</th>\n",
              "      <th>PoolArea</th>\n",
              "      <th>MiscVal</th>\n",
              "      <th>MoSold</th>\n",
              "      <th>YrSold</th>\n",
              "      <th>MSZoning_C (all)</th>\n",
              "      <th>MSZoning_FV</th>\n",
              "      <th>MSZoning_RH</th>\n",
              "      <th>MSZoning_RL</th>\n",
              "      <th>MSZoning_RM</th>\n",
              "      <th>Street_Grvl</th>\n",
              "      <th>Street_Pave</th>\n",
              "      <th>Alley_Grvl</th>\n",
              "      <th>Alley_NO</th>\n",
              "      <th>Alley_Pave</th>\n",
              "      <th>LotShape_IR1</th>\n",
              "      <th>LotShape_IR2</th>\n",
              "      <th>LotShape_IR3</th>\n",
              "      <th>LotShape_Reg</th>\n",
              "      <th>LandContour_Bnk</th>\n",
              "      <th>LandContour_HLS</th>\n",
              "      <th>LandContour_Low</th>\n",
              "      <th>LandContour_Lvl</th>\n",
              "      <th>Utilities_AllPub</th>\n",
              "      <th>Utilities_NoSeWa</th>\n",
              "      <th>LotConfig_Corner</th>\n",
              "      <th>LotConfig_CulDSac</th>\n",
              "      <th>LotConfig_FR2</th>\n",
              "      <th>LotConfig_FR3</th>\n",
              "      <th>LotConfig_Inside</th>\n",
              "      <th>LandSlope_Gtl</th>\n",
              "      <th>LandSlope_Mod</th>\n",
              "      <th>LandSlope_Sev</th>\n",
              "      <th>Neighborhood_Blmngtn</th>\n",
              "      <th>Neighborhood_Blueste</th>\n",
              "      <th>Neighborhood_BrDale</th>\n",
              "      <th>Neighborhood_BrkSide</th>\n",
              "      <th>Neighborhood_ClearCr</th>\n",
              "      <th>Neighborhood_CollgCr</th>\n",
              "      <th>Neighborhood_Crawfor</th>\n",
              "      <th>Neighborhood_Edwards</th>\n",
              "      <th>Neighborhood_Gilbert</th>\n",
              "      <th>Neighborhood_IDOTRR</th>\n",
              "      <th>Neighborhood_MeadowV</th>\n",
              "      <th>Neighborhood_Mitchel</th>\n",
              "      <th>Neighborhood_NAmes</th>\n",
              "      <th>Neighborhood_NPkVill</th>\n",
              "      <th>Neighborhood_NWAmes</th>\n",
              "      <th>Neighborhood_NoRidge</th>\n",
              "      <th>Neighborhood_NridgHt</th>\n",
              "      <th>Neighborhood_OldTown</th>\n",
              "      <th>Neighborhood_SWISU</th>\n",
              "      <th>Neighborhood_Sawyer</th>\n",
              "      <th>Neighborhood_SawyerW</th>\n",
              "      <th>Neighborhood_Somerst</th>\n",
              "      <th>Neighborhood_StoneBr</th>\n",
              "      <th>Neighborhood_Timber</th>\n",
              "      <th>Neighborhood_Veenker</th>\n",
              "      <th>Condition1_Artery</th>\n",
              "      <th>Condition1_Feedr</th>\n",
              "      <th>Condition1_Norm</th>\n",
              "      <th>Condition1_PosA</th>\n",
              "      <th>Condition1_PosN</th>\n",
              "      <th>Condition1_RRAe</th>\n",
              "      <th>Condition1_RRAn</th>\n",
              "      <th>Condition1_RRNe</th>\n",
              "      <th>Condition1_RRNn</th>\n",
              "      <th>Condition2_Artery</th>\n",
              "      <th>Condition2_Feedr</th>\n",
              "      <th>Condition2_Norm</th>\n",
              "      <th>Condition2_PosA</th>\n",
              "      <th>Condition2_PosN</th>\n",
              "      <th>Condition2_RRAe</th>\n",
              "      <th>Condition2_RRAn</th>\n",
              "      <th>Condition2_RRNn</th>\n",
              "      <th>BldgType_1Fam</th>\n",
              "      <th>BldgType_2fmCon</th>\n",
              "      <th>BldgType_Duplex</th>\n",
              "      <th>BldgType_Twnhs</th>\n",
              "      <th>BldgType_TwnhsE</th>\n",
              "      <th>HouseStyle_1.5Fin</th>\n",
              "      <th>HouseStyle_1.5Unf</th>\n",
              "      <th>HouseStyle_1Story</th>\n",
              "      <th>HouseStyle_2.5Fin</th>\n",
              "      <th>HouseStyle_2.5Unf</th>\n",
              "      <th>HouseStyle_2Story</th>\n",
              "      <th>HouseStyle_SFoyer</th>\n",
              "      <th>HouseStyle_SLvl</th>\n",
              "      <th>RoofStyle_Flat</th>\n",
              "      <th>RoofStyle_Gable</th>\n",
              "      <th>RoofStyle_Gambrel</th>\n",
              "      <th>RoofStyle_Hip</th>\n",
              "      <th>RoofStyle_Mansard</th>\n",
              "      <th>RoofStyle_Shed</th>\n",
              "      <th>RoofMatl_ClyTile</th>\n",
              "      <th>RoofMatl_CompShg</th>\n",
              "      <th>RoofMatl_Membran</th>\n",
              "      <th>RoofMatl_Metal</th>\n",
              "      <th>RoofMatl_Roll</th>\n",
              "      <th>RoofMatl_Tar&amp;Grv</th>\n",
              "      <th>RoofMatl_WdShake</th>\n",
              "      <th>RoofMatl_WdShngl</th>\n",
              "      <th>Exterior1st_AsbShng</th>\n",
              "      <th>Exterior1st_AsphShn</th>\n",
              "      <th>Exterior1st_BrkComm</th>\n",
              "      <th>Exterior1st_BrkFace</th>\n",
              "      <th>Exterior1st_CBlock</th>\n",
              "      <th>Exterior1st_CemntBd</th>\n",
              "      <th>Exterior1st_HdBoard</th>\n",
              "      <th>Exterior1st_ImStucc</th>\n",
              "      <th>Exterior1st_MetalSd</th>\n",
              "      <th>Exterior1st_Plywood</th>\n",
              "      <th>Exterior1st_Stone</th>\n",
              "      <th>Exterior1st_Stucco</th>\n",
              "      <th>Exterior1st_VinylSd</th>\n",
              "      <th>Exterior1st_Wd Sdng</th>\n",
              "      <th>Exterior1st_WdShing</th>\n",
              "      <th>Exterior2nd_AsbShng</th>\n",
              "      <th>Exterior2nd_AsphShn</th>\n",
              "      <th>Exterior2nd_Brk Cmn</th>\n",
              "      <th>Exterior2nd_BrkFace</th>\n",
              "      <th>Exterior2nd_CBlock</th>\n",
              "      <th>Exterior2nd_CmentBd</th>\n",
              "      <th>Exterior2nd_HdBoard</th>\n",
              "      <th>Exterior2nd_ImStucc</th>\n",
              "      <th>Exterior2nd_MetalSd</th>\n",
              "      <th>Exterior2nd_Other</th>\n",
              "      <th>Exterior2nd_Plywood</th>\n",
              "      <th>Exterior2nd_Stone</th>\n",
              "      <th>Exterior2nd_Stucco</th>\n",
              "      <th>Exterior2nd_VinylSd</th>\n",
              "      <th>Exterior2nd_Wd Sdng</th>\n",
              "      <th>Exterior2nd_Wd Shng</th>\n",
              "      <th>MasVnrType_BrkCmn</th>\n",
              "      <th>MasVnrType_BrkFace</th>\n",
              "      <th>MasVnrType_None</th>\n",
              "      <th>MasVnrType_Stone</th>\n",
              "      <th>ExterQual_Ex</th>\n",
              "      <th>ExterQual_Fa</th>\n",
              "      <th>ExterQual_Gd</th>\n",
              "      <th>ExterQual_TA</th>\n",
              "      <th>ExterCond_Ex</th>\n",
              "      <th>ExterCond_Fa</th>\n",
              "      <th>ExterCond_Gd</th>\n",
              "      <th>ExterCond_Po</th>\n",
              "      <th>ExterCond_TA</th>\n",
              "      <th>Foundation_BrkTil</th>\n",
              "      <th>Foundation_CBlock</th>\n",
              "      <th>Foundation_PConc</th>\n",
              "      <th>Foundation_Pconc</th>\n",
              "      <th>Foundation_Slab</th>\n",
              "      <th>Foundation_Stone</th>\n",
              "      <th>Foundation_Wood</th>\n",
              "      <th>BsmtQual_Ex</th>\n",
              "      <th>BsmtQual_Fa</th>\n",
              "      <th>BsmtQual_Gd</th>\n",
              "      <th>BsmtQual_NO</th>\n",
              "      <th>BsmtQual_TA</th>\n",
              "      <th>BsmtCond_Fa</th>\n",
              "      <th>BsmtCond_Gd</th>\n",
              "      <th>BsmtCond_NO</th>\n",
              "      <th>BsmtCond_Po</th>\n",
              "      <th>BsmtCond_TA</th>\n",
              "      <th>BsmtExposure_Av</th>\n",
              "      <th>BsmtExposure_Gd</th>\n",
              "      <th>BsmtExposure_Mn</th>\n",
              "      <th>BsmtExposure_NO</th>\n",
              "      <th>BsmtExposure_No</th>\n",
              "      <th>BsmtFinType1_ALQ</th>\n",
              "      <th>BsmtFinType1_BLQ</th>\n",
              "      <th>BsmtFinType1_GLQ</th>\n",
              "      <th>BsmtFinType1_LwQ</th>\n",
              "      <th>BsmtFinType1_NO</th>\n",
              "      <th>BsmtFinType1_Rec</th>\n",
              "      <th>BsmtFinType1_Unf</th>\n",
              "      <th>BsmtFinType2_ALQ</th>\n",
              "      <th>BsmtFinType2_BLQ</th>\n",
              "      <th>BsmtFinType2_GLQ</th>\n",
              "      <th>BsmtFinType2_LwQ</th>\n",
              "      <th>BsmtFinType2_NO</th>\n",
              "      <th>BsmtFinType2_Rec</th>\n",
              "      <th>BsmtFinType2_Unf</th>\n",
              "      <th>Heating_Floor</th>\n",
              "      <th>Heating_GasA</th>\n",
              "      <th>Heating_GasW</th>\n",
              "      <th>Heating_Grav</th>\n",
              "      <th>Heating_OthW</th>\n",
              "      <th>Heating_Wall</th>\n",
              "      <th>HeatingQC_Ex</th>\n",
              "      <th>HeatingQC_Fa</th>\n",
              "      <th>HeatingQC_Gd</th>\n",
              "      <th>HeatingQC_Po</th>\n",
              "      <th>HeatingQC_TA</th>\n",
              "      <th>CentralAir_N</th>\n",
              "      <th>CentralAir_Y</th>\n",
              "      <th>Electrical_FuseA</th>\n",
              "      <th>Electrical_FuseF</th>\n",
              "      <th>Electrical_FuseP</th>\n",
              "      <th>Electrical_Mix</th>\n",
              "      <th>Electrical_SBrkr</th>\n",
              "      <th>KitchenQual_Ex</th>\n",
              "      <th>KitchenQual_Fa</th>\n",
              "      <th>KitchenQual_Gd</th>\n",
              "      <th>KitchenQual_TA</th>\n",
              "      <th>Functional_Maj1</th>\n",
              "      <th>Functional_Maj2</th>\n",
              "      <th>Functional_Min1</th>\n",
              "      <th>Functional_Min2</th>\n",
              "      <th>Functional_Mod</th>\n",
              "      <th>Functional_Sev</th>\n",
              "      <th>Functional_Typ</th>\n",
              "      <th>FireplaceQu_Ex</th>\n",
              "      <th>FireplaceQu_Fa</th>\n",
              "      <th>FireplaceQu_Gd</th>\n",
              "      <th>FireplaceQu_NO</th>\n",
              "      <th>FireplaceQu_Po</th>\n",
              "      <th>FireplaceQu_TA</th>\n",
              "      <th>GarageType_2Types</th>\n",
              "      <th>GarageType_Attchd</th>\n",
              "      <th>GarageType_Basment</th>\n",
              "      <th>GarageType_BuiltIn</th>\n",
              "      <th>GarageType_CarPort</th>\n",
              "      <th>GarageType_Detchd</th>\n",
              "      <th>GarageType_NO</th>\n",
              "      <th>GarageFinish_Fin</th>\n",
              "      <th>GarageFinish_NO</th>\n",
              "      <th>GarageFinish_RFn</th>\n",
              "      <th>GarageFinish_Unf</th>\n",
              "      <th>GarageQual_Ex</th>\n",
              "      <th>GarageQual_Fa</th>\n",
              "      <th>GarageQual_Gd</th>\n",
              "      <th>GarageQual_NO</th>\n",
              "      <th>GarageQual_Po</th>\n",
              "      <th>GarageQual_TA</th>\n",
              "      <th>GarageCond_Ex</th>\n",
              "      <th>GarageCond_Fa</th>\n",
              "      <th>GarageCond_Gd</th>\n",
              "      <th>GarageCond_NO</th>\n",
              "      <th>GarageCond_Po</th>\n",
              "      <th>GarageCond_TA</th>\n",
              "      <th>PavedDrive_N</th>\n",
              "      <th>PavedDrive_P</th>\n",
              "      <th>PavedDrive_Y</th>\n",
              "      <th>PoolQC_Ex</th>\n",
              "      <th>PoolQC_Fa</th>\n",
              "      <th>PoolQC_Gd</th>\n",
              "      <th>PoolQC_NO</th>\n",
              "      <th>Fence_GdPrv</th>\n",
              "      <th>Fence_GdWo</th>\n",
              "      <th>Fence_MnPrv</th>\n",
              "      <th>Fence_MnWw</th>\n",
              "      <th>Fence_NO</th>\n",
              "      <th>MiscFeature_Gar2</th>\n",
              "      <th>MiscFeature_NO</th>\n",
              "      <th>MiscFeature_Othr</th>\n",
              "      <th>MiscFeature_Shed</th>\n",
              "      <th>MiscFeature_TenC</th>\n",
              "      <th>SaleType_COD</th>\n",
              "      <th>SaleType_CWD</th>\n",
              "      <th>SaleType_Con</th>\n",
              "      <th>SaleType_ConLD</th>\n",
              "      <th>SaleType_ConLI</th>\n",
              "      <th>SaleType_ConLw</th>\n",
              "      <th>SaleType_New</th>\n",
              "      <th>SaleType_Oth</th>\n",
              "      <th>SaleType_WD</th>\n",
              "      <th>SaleCondition_Abnorml</th>\n",
              "      <th>SaleCondition_AdjLand</th>\n",
              "      <th>SaleCondition_Alloca</th>\n",
              "      <th>SaleCondition_Family</th>\n",
              "      <th>SaleCondition_Normal</th>\n",
              "      <th>SaleCondition_Partial</th>\n",
              "      <th>MSSubClass_20</th>\n",
              "      <th>MSSubClass_30</th>\n",
              "      <th>MSSubClass_40</th>\n",
              "      <th>MSSubClass_45</th>\n",
              "      <th>MSSubClass_50</th>\n",
              "      <th>MSSubClass_60</th>\n",
              "      <th>MSSubClass_70</th>\n",
              "      <th>MSSubClass_75</th>\n",
              "      <th>MSSubClass_80</th>\n",
              "      <th>MSSubClass_85</th>\n",
              "      <th>MSSubClass_90</th>\n",
              "      <th>MSSubClass_120</th>\n",
              "      <th>MSSubClass_150</th>\n",
              "      <th>MSSubClass_160</th>\n",
              "      <th>MSSubClass_180</th>\n",
              "      <th>MSSubClass_190</th>\n",
              "      <th>OverallQual_1</th>\n",
              "      <th>OverallQual_2</th>\n",
              "      <th>OverallQual_3</th>\n",
              "      <th>OverallQual_4</th>\n",
              "      <th>OverallQual_5</th>\n",
              "      <th>OverallQual_6</th>\n",
              "      <th>OverallQual_7</th>\n",
              "      <th>OverallQual_8</th>\n",
              "      <th>OverallQual_9</th>\n",
              "      <th>OverallQual_10</th>\n",
              "      <th>OverallCond_1</th>\n",
              "      <th>OverallCond_2</th>\n",
              "      <th>OverallCond_3</th>\n",
              "      <th>OverallCond_4</th>\n",
              "      <th>OverallCond_5</th>\n",
              "      <th>OverallCond_6</th>\n",
              "      <th>OverallCond_7</th>\n",
              "      <th>OverallCond_8</th>\n",
              "      <th>OverallCond_9</th>\n",
              "    </tr>\n",
              "  </thead>\n",
              "  <tbody>\n",
              "    <tr>\n",
              "      <th>0</th>\n",
              "      <td>0</td>\n",
              "      <td>0</td>\n",
              "      <td>0</td>\n",
              "      <td>0</td>\n",
              "      <td>0</td>\n",
              "      <td>0</td>\n",
              "      <td>0</td>\n",
              "      <td>0</td>\n",
              "      <td>0</td>\n",
              "      <td>0</td>\n",
              "      <td>0</td>\n",
              "      <td>0</td>\n",
              "      <td>0</td>\n",
              "      <td>0</td>\n",
              "      <td>0</td>\n",
              "      <td>0</td>\n",
              "      <td>0</td>\n",
              "      <td>0</td>\n",
              "      <td>0</td>\n",
              "      <td>0</td>\n",
              "      <td>0</td>\n",
              "      <td>0</td>\n",
              "      <td>0</td>\n",
              "      <td>0</td>\n",
              "      <td>0</td>\n",
              "      <td>0</td>\n",
              "      <td>0</td>\n",
              "      <td>0</td>\n",
              "      <td>0</td>\n",
              "      <td>0</td>\n",
              "      <td>0</td>\n",
              "      <td>0</td>\n",
              "      <td>0</td>\n",
              "      <td>0</td>\n",
              "      <td>0</td>\n",
              "      <td>0</td>\n",
              "      <td>0</td>\n",
              "      <td>0</td>\n",
              "      <td>0</td>\n",
              "      <td>0</td>\n",
              "      <td>0</td>\n",
              "      <td>0</td>\n",
              "      <td>0</td>\n",
              "      <td>0</td>\n",
              "      <td>0</td>\n",
              "      <td>0</td>\n",
              "      <td>0</td>\n",
              "      <td>0</td>\n",
              "      <td>0</td>\n",
              "      <td>0</td>\n",
              "      <td>0</td>\n",
              "      <td>0</td>\n",
              "      <td>0</td>\n",
              "      <td>0</td>\n",
              "      <td>0</td>\n",
              "      <td>0</td>\n",
              "      <td>0</td>\n",
              "      <td>0</td>\n",
              "      <td>0</td>\n",
              "      <td>0</td>\n",
              "      <td>0</td>\n",
              "      <td>0</td>\n",
              "      <td>0</td>\n",
              "      <td>0</td>\n",
              "      <td>0</td>\n",
              "      <td>0</td>\n",
              "      <td>0</td>\n",
              "      <td>0</td>\n",
              "      <td>0</td>\n",
              "      <td>0</td>\n",
              "      <td>0</td>\n",
              "      <td>0</td>\n",
              "      <td>0</td>\n",
              "      <td>0</td>\n",
              "      <td>0</td>\n",
              "      <td>0</td>\n",
              "      <td>0</td>\n",
              "      <td>0</td>\n",
              "      <td>0</td>\n",
              "      <td>0</td>\n",
              "      <td>0</td>\n",
              "      <td>0</td>\n",
              "      <td>0</td>\n",
              "      <td>0</td>\n",
              "      <td>0</td>\n",
              "      <td>0</td>\n",
              "      <td>0</td>\n",
              "      <td>0</td>\n",
              "      <td>0</td>\n",
              "      <td>0</td>\n",
              "      <td>0</td>\n",
              "      <td>0</td>\n",
              "      <td>0</td>\n",
              "      <td>0</td>\n",
              "      <td>0</td>\n",
              "      <td>0</td>\n",
              "      <td>0</td>\n",
              "      <td>0</td>\n",
              "      <td>0</td>\n",
              "      <td>0</td>\n",
              "      <td>0</td>\n",
              "      <td>0</td>\n",
              "      <td>0</td>\n",
              "      <td>0</td>\n",
              "      <td>0</td>\n",
              "      <td>0</td>\n",
              "      <td>0</td>\n",
              "      <td>0</td>\n",
              "      <td>0</td>\n",
              "      <td>0</td>\n",
              "      <td>0</td>\n",
              "      <td>0</td>\n",
              "      <td>0</td>\n",
              "      <td>0</td>\n",
              "      <td>0</td>\n",
              "      <td>0</td>\n",
              "      <td>0</td>\n",
              "      <td>0</td>\n",
              "      <td>0</td>\n",
              "      <td>0</td>\n",
              "      <td>0</td>\n",
              "      <td>0</td>\n",
              "      <td>0</td>\n",
              "      <td>0</td>\n",
              "      <td>0</td>\n",
              "      <td>0</td>\n",
              "      <td>0</td>\n",
              "      <td>0</td>\n",
              "      <td>0</td>\n",
              "      <td>0</td>\n",
              "      <td>0</td>\n",
              "      <td>0</td>\n",
              "      <td>0</td>\n",
              "      <td>0</td>\n",
              "      <td>0</td>\n",
              "      <td>0</td>\n",
              "      <td>0</td>\n",
              "      <td>0</td>\n",
              "      <td>0</td>\n",
              "      <td>0</td>\n",
              "      <td>0</td>\n",
              "      <td>0</td>\n",
              "      <td>0</td>\n",
              "      <td>0</td>\n",
              "      <td>0</td>\n",
              "      <td>0</td>\n",
              "      <td>0</td>\n",
              "      <td>0</td>\n",
              "      <td>0</td>\n",
              "      <td>0</td>\n",
              "      <td>0</td>\n",
              "      <td>0</td>\n",
              "      <td>0</td>\n",
              "      <td>0</td>\n",
              "      <td>0</td>\n",
              "      <td>0</td>\n",
              "      <td>0</td>\n",
              "      <td>0</td>\n",
              "      <td>0</td>\n",
              "      <td>0</td>\n",
              "      <td>0</td>\n",
              "      <td>0</td>\n",
              "      <td>0</td>\n",
              "      <td>0</td>\n",
              "      <td>0</td>\n",
              "      <td>0</td>\n",
              "      <td>0</td>\n",
              "      <td>0</td>\n",
              "      <td>0</td>\n",
              "      <td>0</td>\n",
              "      <td>0</td>\n",
              "      <td>0</td>\n",
              "      <td>0</td>\n",
              "      <td>0</td>\n",
              "      <td>0</td>\n",
              "      <td>0</td>\n",
              "      <td>0</td>\n",
              "      <td>0</td>\n",
              "      <td>0</td>\n",
              "      <td>0</td>\n",
              "      <td>0</td>\n",
              "      <td>0</td>\n",
              "      <td>0</td>\n",
              "      <td>0</td>\n",
              "      <td>0</td>\n",
              "      <td>0</td>\n",
              "      <td>0</td>\n",
              "      <td>0</td>\n",
              "      <td>0</td>\n",
              "      <td>0</td>\n",
              "      <td>0</td>\n",
              "      <td>0</td>\n",
              "      <td>0</td>\n",
              "      <td>0</td>\n",
              "      <td>0</td>\n",
              "      <td>0</td>\n",
              "      <td>0</td>\n",
              "      <td>0</td>\n",
              "      <td>0</td>\n",
              "      <td>0</td>\n",
              "      <td>0</td>\n",
              "      <td>0</td>\n",
              "      <td>0</td>\n",
              "      <td>0</td>\n",
              "      <td>0</td>\n",
              "      <td>0</td>\n",
              "      <td>0</td>\n",
              "      <td>0</td>\n",
              "      <td>0</td>\n",
              "      <td>0</td>\n",
              "      <td>0</td>\n",
              "      <td>0</td>\n",
              "      <td>0</td>\n",
              "      <td>0</td>\n",
              "      <td>0</td>\n",
              "      <td>0</td>\n",
              "      <td>0</td>\n",
              "      <td>0</td>\n",
              "      <td>0</td>\n",
              "      <td>0</td>\n",
              "      <td>0</td>\n",
              "      <td>0</td>\n",
              "      <td>0</td>\n",
              "      <td>0</td>\n",
              "      <td>0</td>\n",
              "      <td>0</td>\n",
              "      <td>0</td>\n",
              "      <td>0</td>\n",
              "      <td>0</td>\n",
              "      <td>0</td>\n",
              "      <td>0</td>\n",
              "      <td>0</td>\n",
              "      <td>0</td>\n",
              "      <td>0</td>\n",
              "      <td>0</td>\n",
              "      <td>0</td>\n",
              "      <td>0</td>\n",
              "      <td>0</td>\n",
              "      <td>0</td>\n",
              "      <td>0</td>\n",
              "      <td>0</td>\n",
              "      <td>0</td>\n",
              "      <td>0</td>\n",
              "      <td>0</td>\n",
              "      <td>0</td>\n",
              "      <td>0</td>\n",
              "      <td>0</td>\n",
              "      <td>0</td>\n",
              "      <td>0</td>\n",
              "      <td>0</td>\n",
              "      <td>0</td>\n",
              "      <td>0</td>\n",
              "      <td>0</td>\n",
              "      <td>0</td>\n",
              "      <td>0</td>\n",
              "      <td>0</td>\n",
              "      <td>0</td>\n",
              "      <td>0</td>\n",
              "      <td>0</td>\n",
              "      <td>0</td>\n",
              "      <td>0</td>\n",
              "      <td>0</td>\n",
              "      <td>0</td>\n",
              "      <td>0</td>\n",
              "      <td>0</td>\n",
              "      <td>0</td>\n",
              "      <td>0</td>\n",
              "      <td>0</td>\n",
              "      <td>0</td>\n",
              "      <td>0</td>\n",
              "      <td>0</td>\n",
              "      <td>0</td>\n",
              "      <td>0</td>\n",
              "      <td>0</td>\n",
              "      <td>0</td>\n",
              "      <td>0</td>\n",
              "      <td>0</td>\n",
              "      <td>0</td>\n",
              "      <td>0</td>\n",
              "      <td>0</td>\n",
              "      <td>0</td>\n",
              "      <td>0</td>\n",
              "      <td>0</td>\n",
              "      <td>0</td>\n",
              "      <td>0</td>\n",
              "      <td>0</td>\n",
              "      <td>0</td>\n",
              "      <td>0</td>\n",
              "      <td>0</td>\n",
              "      <td>0</td>\n",
              "      <td>0</td>\n",
              "      <td>0</td>\n",
              "      <td>0</td>\n",
              "      <td>0</td>\n",
              "      <td>0</td>\n",
              "      <td>0</td>\n",
              "      <td>0</td>\n",
              "      <td>0</td>\n",
              "      <td>0</td>\n",
              "      <td>0</td>\n",
              "      <td>0</td>\n",
              "      <td>0</td>\n",
              "      <td>0</td>\n",
              "      <td>0</td>\n",
              "      <td>0</td>\n",
              "      <td>0</td>\n",
              "      <td>0</td>\n",
              "      <td>0</td>\n",
              "      <td>0</td>\n",
              "      <td>0</td>\n",
              "      <td>0</td>\n",
              "      <td>0</td>\n",
              "      <td>0</td>\n",
              "      <td>0</td>\n",
              "      <td>0</td>\n",
              "      <td>0</td>\n",
              "      <td>0</td>\n",
              "      <td>0</td>\n",
              "      <td>0</td>\n",
              "      <td>0</td>\n",
              "      <td>0</td>\n",
              "      <td>0</td>\n",
              "      <td>0</td>\n",
              "      <td>0</td>\n",
              "      <td>0</td>\n",
              "      <td>0</td>\n",
              "      <td>0</td>\n",
              "      <td>0</td>\n",
              "      <td>0</td>\n",
              "      <td>0</td>\n",
              "      <td>0</td>\n",
              "      <td>0</td>\n",
              "      <td>0</td>\n",
              "      <td>0</td>\n",
              "      <td>0</td>\n",
              "      <td>0</td>\n",
              "    </tr>\n",
              "  </tbody>\n",
              "</table>\n",
              "</div>"
            ],
            "text/plain": [
              "   Id  LotFrontage  LotArea  YearBuilt  YearRemodAdd  MasVnrArea  BsmtFinSF1  BsmtFinSF2  BsmtUnfSF  TotalBsmtSF  1stFlrSF  2ndFlrSF  LowQualFinSF  GrLivArea  BsmtFullBath  BsmtHalfBath  FullBath  HalfBath  BedroomAbvGr  KitchenAbvGr  TotRmsAbvGrd  Fireplaces  GarageYrBlt  GarageCars  GarageArea  WoodDeckSF  OpenPorchSF  EnclosedPorch  3SsnPorch  ScreenPorch  PoolArea  MiscVal  MoSold  YrSold  MSZoning_C (all)  MSZoning_FV  MSZoning_RH  MSZoning_RL  MSZoning_RM  Street_Grvl  Street_Pave  Alley_Grvl  Alley_NO  Alley_Pave  LotShape_IR1  LotShape_IR2  LotShape_IR3  LotShape_Reg  LandContour_Bnk  LandContour_HLS  LandContour_Low  LandContour_Lvl  Utilities_AllPub  Utilities_NoSeWa  LotConfig_Corner  LotConfig_CulDSac  LotConfig_FR2  LotConfig_FR3  LotConfig_Inside  LandSlope_Gtl  LandSlope_Mod  LandSlope_Sev  Neighborhood_Blmngtn  Neighborhood_Blueste  Neighborhood_BrDale  Neighborhood_BrkSide  Neighborhood_ClearCr  Neighborhood_CollgCr  Neighborhood_Crawfor  Neighborhood_Edwards  \\\n",
              "0   0            0        0          0             0           0           0           0          0            0         0         0             0          0             0             0         0         0             0             0             0           0            0           0           0           0            0              0          0            0         0        0       0       0                 0            0            0            0            0            0            0           0         0           0             0             0             0             0                0                0                0                0                 0                 0                 0                  0              0              0                 0              0              0              0                     0                     0                    0                     0                     0                     0                     0                     0   \n",
              "\n",
              "   Neighborhood_Gilbert  Neighborhood_IDOTRR  Neighborhood_MeadowV  Neighborhood_Mitchel  Neighborhood_NAmes  Neighborhood_NPkVill  Neighborhood_NWAmes  Neighborhood_NoRidge  Neighborhood_NridgHt  Neighborhood_OldTown  Neighborhood_SWISU  Neighborhood_Sawyer  Neighborhood_SawyerW  Neighborhood_Somerst  Neighborhood_StoneBr  Neighborhood_Timber  Neighborhood_Veenker  Condition1_Artery  Condition1_Feedr  Condition1_Norm  Condition1_PosA  Condition1_PosN  Condition1_RRAe  Condition1_RRAn  Condition1_RRNe  Condition1_RRNn  Condition2_Artery  Condition2_Feedr  Condition2_Norm  Condition2_PosA  Condition2_PosN  Condition2_RRAe  Condition2_RRAn  Condition2_RRNn  BldgType_1Fam  BldgType_2fmCon  BldgType_Duplex  BldgType_Twnhs  BldgType_TwnhsE  HouseStyle_1.5Fin  HouseStyle_1.5Unf  HouseStyle_1Story  HouseStyle_2.5Fin  HouseStyle_2.5Unf  HouseStyle_2Story  HouseStyle_SFoyer  HouseStyle_SLvl  RoofStyle_Flat  RoofStyle_Gable  RoofStyle_Gambrel  RoofStyle_Hip  RoofStyle_Mansard  RoofStyle_Shed  \\\n",
              "0                     0                    0                     0                     0                   0                     0                    0                     0                     0                     0                   0                    0                     0                     0                     0                    0                     0                  0                 0                0                0                0                0                0                0                0                  0                 0                0                0                0                0                0                0              0                0                0               0                0                  0                  0                  0                  0                  0                  0                  0                0               0                0                  0              0                  0               0   \n",
              "\n",
              "   RoofMatl_ClyTile  RoofMatl_CompShg  RoofMatl_Membran  RoofMatl_Metal  RoofMatl_Roll  RoofMatl_Tar&Grv  RoofMatl_WdShake  RoofMatl_WdShngl  Exterior1st_AsbShng  Exterior1st_AsphShn  Exterior1st_BrkComm  Exterior1st_BrkFace  Exterior1st_CBlock  Exterior1st_CemntBd  Exterior1st_HdBoard  Exterior1st_ImStucc  Exterior1st_MetalSd  Exterior1st_Plywood  Exterior1st_Stone  Exterior1st_Stucco  Exterior1st_VinylSd  Exterior1st_Wd Sdng  Exterior1st_WdShing  Exterior2nd_AsbShng  Exterior2nd_AsphShn  Exterior2nd_Brk Cmn  Exterior2nd_BrkFace  Exterior2nd_CBlock  Exterior2nd_CmentBd  Exterior2nd_HdBoard  Exterior2nd_ImStucc  Exterior2nd_MetalSd  Exterior2nd_Other  Exterior2nd_Plywood  Exterior2nd_Stone  Exterior2nd_Stucco  Exterior2nd_VinylSd  Exterior2nd_Wd Sdng  Exterior2nd_Wd Shng  MasVnrType_BrkCmn  MasVnrType_BrkFace  MasVnrType_None  MasVnrType_Stone  ExterQual_Ex  ExterQual_Fa  ExterQual_Gd  ExterQual_TA  ExterCond_Ex  ExterCond_Fa  ExterCond_Gd  ExterCond_Po  ExterCond_TA  \\\n",
              "0                 0                 0                 0               0              0                 0                 0                 0                    0                    0                    0                    0                   0                    0                    0                    0                    0                    0                  0                   0                    0                    0                    0                    0                    0                    0                    0                   0                    0                    0                    0                    0                  0                    0                  0                   0                    0                    0                    0                  0                   0                0                 0             0             0             0             0             0             0             0             0             0   \n",
              "\n",
              "   Foundation_BrkTil  Foundation_CBlock  Foundation_PConc  Foundation_Pconc  Foundation_Slab  Foundation_Stone  Foundation_Wood  BsmtQual_Ex  BsmtQual_Fa  BsmtQual_Gd  BsmtQual_NO  BsmtQual_TA  BsmtCond_Fa  BsmtCond_Gd  BsmtCond_NO  BsmtCond_Po  BsmtCond_TA  BsmtExposure_Av  BsmtExposure_Gd  BsmtExposure_Mn  BsmtExposure_NO  BsmtExposure_No  BsmtFinType1_ALQ  BsmtFinType1_BLQ  BsmtFinType1_GLQ  BsmtFinType1_LwQ  BsmtFinType1_NO  BsmtFinType1_Rec  BsmtFinType1_Unf  BsmtFinType2_ALQ  BsmtFinType2_BLQ  BsmtFinType2_GLQ  BsmtFinType2_LwQ  BsmtFinType2_NO  BsmtFinType2_Rec  BsmtFinType2_Unf  Heating_Floor  Heating_GasA  Heating_GasW  Heating_Grav  Heating_OthW  Heating_Wall  HeatingQC_Ex  HeatingQC_Fa  HeatingQC_Gd  HeatingQC_Po  HeatingQC_TA  CentralAir_N  CentralAir_Y  Electrical_FuseA  Electrical_FuseF  Electrical_FuseP  Electrical_Mix  Electrical_SBrkr  KitchenQual_Ex  KitchenQual_Fa  KitchenQual_Gd  KitchenQual_TA  Functional_Maj1  Functional_Maj2  Functional_Min1  Functional_Min2  \\\n",
              "0                  0                  0                 0                 0                0                 0                0            0            0            0            0            0            0            0            0            0            0                0                0                0                0                0                 0                 0                 0                 0                0                 0                 0                 0                 0                 0                 0                0                 0                 0              0             0             0             0             0             0             0             0             0             0             0             0             0                 0                 0                 0               0                 0               0               0               0               0                0                0                0                0   \n",
              "\n",
              "   Functional_Mod  Functional_Sev  Functional_Typ  FireplaceQu_Ex  FireplaceQu_Fa  FireplaceQu_Gd  FireplaceQu_NO  FireplaceQu_Po  FireplaceQu_TA  GarageType_2Types  GarageType_Attchd  GarageType_Basment  GarageType_BuiltIn  GarageType_CarPort  GarageType_Detchd  GarageType_NO  GarageFinish_Fin  GarageFinish_NO  GarageFinish_RFn  GarageFinish_Unf  GarageQual_Ex  GarageQual_Fa  GarageQual_Gd  GarageQual_NO  GarageQual_Po  GarageQual_TA  GarageCond_Ex  GarageCond_Fa  GarageCond_Gd  GarageCond_NO  GarageCond_Po  GarageCond_TA  PavedDrive_N  PavedDrive_P  PavedDrive_Y  PoolQC_Ex  PoolQC_Fa  PoolQC_Gd  PoolQC_NO  Fence_GdPrv  Fence_GdWo  Fence_MnPrv  Fence_MnWw  Fence_NO  MiscFeature_Gar2  MiscFeature_NO  MiscFeature_Othr  MiscFeature_Shed  MiscFeature_TenC  SaleType_COD  SaleType_CWD  SaleType_Con  SaleType_ConLD  SaleType_ConLI  SaleType_ConLw  SaleType_New  SaleType_Oth  SaleType_WD  SaleCondition_Abnorml  SaleCondition_AdjLand  SaleCondition_Alloca  SaleCondition_Family  \\\n",
              "0               0               0               0               0               0               0               0               0               0                  0                  0                   0                   0                   0                  0              0                 0                0                 0                 0              0              0              0              0              0              0              0              0              0              0              0              0             0             0             0          0          0          0          0            0           0            0           0         0                 0               0                 0                 0                 0             0             0             0               0               0               0             0             0            0                      0                      0                     0                     0   \n",
              "\n",
              "   SaleCondition_Normal  SaleCondition_Partial  MSSubClass_20  MSSubClass_30  MSSubClass_40  MSSubClass_45  MSSubClass_50  MSSubClass_60  MSSubClass_70  MSSubClass_75  MSSubClass_80  MSSubClass_85  MSSubClass_90  MSSubClass_120  MSSubClass_150  MSSubClass_160  MSSubClass_180  MSSubClass_190  OverallQual_1  OverallQual_2  OverallQual_3  OverallQual_4  OverallQual_5  OverallQual_6  OverallQual_7  OverallQual_8  OverallQual_9  OverallQual_10  OverallCond_1  OverallCond_2  OverallCond_3  OverallCond_4  OverallCond_5  OverallCond_6  OverallCond_7  OverallCond_8  OverallCond_9  \n",
              "0                     0                      0              0              0              0              0              0              0              0              0              0              0              0               0               0               0               0               0              0              0              0              0              0              0              0              0              0               0              0              0              0              0              0              0              0              0              0  "
            ]
          },
          "metadata": {
            "tags": []
          },
          "execution_count": 25
        }
      ]
    },
    {
      "cell_type": "code",
      "metadata": {
        "id": "ibp3ZhiiaDci",
        "colab_type": "code",
        "outputId": "38a96b24-f0f3-4443-8602-fd850888caf2",
        "colab": {
          "base_uri": "https://localhost:8080/",
          "height": 734
        }
      },
      "source": [
        "#splitting combined data into train and test data\n",
        "X_train = final_combined_data.xs(0)\n",
        "X_test = final_combined_data.xs(1)\n",
        "\n",
        "print(X_train.head())"
      ],
      "execution_count": 26,
      "outputs": [
        {
          "output_type": "stream",
          "text": [
            "   Id  LotFrontage  LotArea  YearBuilt  YearRemodAdd  MasVnrArea  BsmtFinSF1  BsmtFinSF2  BsmtUnfSF  TotalBsmtSF  1stFlrSF  2ndFlrSF  LowQualFinSF  GrLivArea  BsmtFullBath  BsmtHalfBath  FullBath  HalfBath  BedroomAbvGr  KitchenAbvGr  TotRmsAbvGrd  Fireplaces  GarageYrBlt  GarageCars  GarageArea  WoodDeckSF  OpenPorchSF  EnclosedPorch  3SsnPorch  ScreenPorch  PoolArea  MiscVal  MoSold  YrSold  MSZoning_C (all)  MSZoning_FV  MSZoning_RH  MSZoning_RL  MSZoning_RM  Street_Grvl  Street_Pave  Alley_Grvl  Alley_NO  Alley_Pave  LotShape_IR1  LotShape_IR2  LotShape_IR3  LotShape_Reg  LandContour_Bnk  LandContour_HLS  LandContour_Low  LandContour_Lvl  Utilities_AllPub  Utilities_NoSeWa  LotConfig_Corner  LotConfig_CulDSac  LotConfig_FR2  LotConfig_FR3  LotConfig_Inside  LandSlope_Gtl  LandSlope_Mod  LandSlope_Sev  Neighborhood_Blmngtn  Neighborhood_Blueste  Neighborhood_BrDale  Neighborhood_BrkSide  Neighborhood_ClearCr  Neighborhood_CollgCr  Neighborhood_Crawfor  Neighborhood_Edwards  \\\n",
            "0   1         65.0     8450       2003          2003       196.0       706.0         0.0      150.0        856.0       856       854             0       1710           1.0           0.0         2         1             3             1             8           0       2003.0         2.0       548.0           0           61              0          0            0         0        0       2    2008                 0            0            0            1            0            0            1           0         1           0             0             0             0             1                0                0                0                1                 1                 0                 0                  0              0              0                 1              1              0              0                     0                     0                    0                     0                     0                     1                     0                     0   \n",
            "1   2         80.0     9600       1976          1976         0.0       978.0         0.0      284.0       1262.0      1262         0             0       1262           0.0           1.0         2         0             3             1             6           1       1976.0         2.0       460.0         298            0              0          0            0         0        0       5    2007                 0            0            0            1            0            0            1           0         1           0             0             0             0             1                0                0                0                1                 1                 0                 0                  0              1              0                 0              1              0              0                     0                     0                    0                     0                     0                     0                     0                     0   \n",
            "2   3         68.0    11250       2001          2002       162.0       486.0         0.0      434.0        920.0       920       866             0       1786           1.0           0.0         2         1             3             1             6           1       2001.0         2.0       608.0           0           42              0          0            0         0        0       9    2008                 0            0            0            1            0            0            1           0         1           0             1             0             0             0                0                0                0                1                 1                 0                 0                  0              0              0                 1              1              0              0                     0                     0                    0                     0                     0                     1                     0                     0   \n",
            "3   4         60.0     9550       1915          1970         0.0       216.0         0.0      540.0        756.0       961       756             0       1717           1.0           0.0         1         0             3             1             7           1       1998.0         3.0       642.0           0           35            272          0            0         0        0       2    2006                 0            0            0            1            0            0            1           0         1           0             1             0             0             0                0                0                0                1                 1                 0                 1                  0              0              0                 0              1              0              0                     0                     0                    0                     0                     0                     0                     1                     0   \n",
            "4   5         84.0    14260       2000          2000       350.0       655.0         0.0      490.0       1145.0      1145      1053             0       2198           1.0           0.0         2         1             4             1             9           1       2000.0         3.0       836.0         192           84              0          0            0         0        0      12    2008                 0            0            0            1            0            0            1           0         1           0             1             0             0             0                0                0                0                1                 1                 0                 0                  0              1              0                 0              1              0              0                     0                     0                    0                     0                     0                     0                     0                     0   \n",
            "\n",
            "   Neighborhood_Gilbert  Neighborhood_IDOTRR  Neighborhood_MeadowV  Neighborhood_Mitchel  Neighborhood_NAmes  Neighborhood_NPkVill  Neighborhood_NWAmes  Neighborhood_NoRidge  Neighborhood_NridgHt  Neighborhood_OldTown  Neighborhood_SWISU  Neighborhood_Sawyer  Neighborhood_SawyerW  Neighborhood_Somerst  Neighborhood_StoneBr  Neighborhood_Timber  Neighborhood_Veenker  Condition1_Artery  Condition1_Feedr  Condition1_Norm  Condition1_PosA  Condition1_PosN  Condition1_RRAe  Condition1_RRAn  Condition1_RRNe  Condition1_RRNn  Condition2_Artery  Condition2_Feedr  Condition2_Norm  Condition2_PosA  Condition2_PosN  Condition2_RRAe  Condition2_RRAn  Condition2_RRNn  BldgType_1Fam  BldgType_2fmCon  BldgType_Duplex  BldgType_Twnhs  BldgType_TwnhsE  HouseStyle_1.5Fin  HouseStyle_1.5Unf  HouseStyle_1Story  HouseStyle_2.5Fin  HouseStyle_2.5Unf  HouseStyle_2Story  HouseStyle_SFoyer  HouseStyle_SLvl  RoofStyle_Flat  RoofStyle_Gable  RoofStyle_Gambrel  RoofStyle_Hip  RoofStyle_Mansard  RoofStyle_Shed  \\\n",
            "0                     0                    0                     0                     0                   0                     0                    0                     0                     0                     0                   0                    0                     0                     0                     0                    0                     0                  0                 0                1                0                0                0                0                0                0                  0                 0                1                0                0                0                0                0              1                0                0               0                0                  0                  0                  0                  0                  0                  1                  0                0               0                1                  0              0                  0               0   \n",
            "1                     0                    0                     0                     0                   0                     0                    0                     0                     0                     0                   0                    0                     0                     0                     0                    0                     1                  0                 1                0                0                0                0                0                0                0                  0                 0                1                0                0                0                0                0              1                0                0               0                0                  0                  0                  1                  0                  0                  0                  0                0               0                1                  0              0                  0               0   \n",
            "2                     0                    0                     0                     0                   0                     0                    0                     0                     0                     0                   0                    0                     0                     0                     0                    0                     0                  0                 0                1                0                0                0                0                0                0                  0                 0                1                0                0                0                0                0              1                0                0               0                0                  0                  0                  0                  0                  0                  1                  0                0               0                1                  0              0                  0               0   \n",
            "3                     0                    0                     0                     0                   0                     0                    0                     0                     0                     0                   0                    0                     0                     0                     0                    0                     0                  0                 0                1                0                0                0                0                0                0                  0                 0                1                0                0                0                0                0              1                0                0               0                0                  0                  0                  0                  0                  0                  1                  0                0               0                1                  0              0                  0               0   \n",
            "4                     0                    0                     0                     0                   0                     0                    0                     1                     0                     0                   0                    0                     0                     0                     0                    0                     0                  0                 0                1                0                0                0                0                0                0                  0                 0                1                0                0                0                0                0              1                0                0               0                0                  0                  0                  0                  0                  0                  1                  0                0               0                1                  0              0                  0               0   \n",
            "\n",
            "   RoofMatl_ClyTile  RoofMatl_CompShg  RoofMatl_Membran  RoofMatl_Metal  RoofMatl_Roll  RoofMatl_Tar&Grv  RoofMatl_WdShake  RoofMatl_WdShngl  Exterior1st_AsbShng  Exterior1st_AsphShn  Exterior1st_BrkComm  Exterior1st_BrkFace  Exterior1st_CBlock  Exterior1st_CemntBd  Exterior1st_HdBoard  Exterior1st_ImStucc  Exterior1st_MetalSd  Exterior1st_Plywood  Exterior1st_Stone  Exterior1st_Stucco  Exterior1st_VinylSd  Exterior1st_Wd Sdng  Exterior1st_WdShing  Exterior2nd_AsbShng  Exterior2nd_AsphShn  Exterior2nd_Brk Cmn  Exterior2nd_BrkFace  Exterior2nd_CBlock  Exterior2nd_CmentBd  Exterior2nd_HdBoard  Exterior2nd_ImStucc  Exterior2nd_MetalSd  Exterior2nd_Other  Exterior2nd_Plywood  Exterior2nd_Stone  Exterior2nd_Stucco  Exterior2nd_VinylSd  Exterior2nd_Wd Sdng  Exterior2nd_Wd Shng  MasVnrType_BrkCmn  MasVnrType_BrkFace  MasVnrType_None  MasVnrType_Stone  ExterQual_Ex  ExterQual_Fa  ExterQual_Gd  ExterQual_TA  ExterCond_Ex  ExterCond_Fa  ExterCond_Gd  ExterCond_Po  ExterCond_TA  \\\n",
            "0                 0                 1                 0               0              0                 0                 0                 0                    0                    0                    0                    0                   0                    0                    0                    0                    0                    0                  0                   0                    1                    0                    0                    0                    0                    0                    0                   0                    0                    0                    0                    0                  0                    0                  0                   0                    1                    0                    0                  0                   1                0                 0             0             0             1             0             0             0             0             0             1   \n",
            "1                 0                 1                 0               0              0                 0                 0                 0                    0                    0                    0                    0                   0                    0                    0                    0                    1                    0                  0                   0                    0                    0                    0                    0                    0                    0                    0                   0                    0                    0                    0                    1                  0                    0                  0                   0                    0                    0                    0                  0                   0                1                 0             0             0             0             1             0             0             0             0             1   \n",
            "2                 0                 1                 0               0              0                 0                 0                 0                    0                    0                    0                    0                   0                    0                    0                    0                    0                    0                  0                   0                    1                    0                    0                    0                    0                    0                    0                   0                    0                    0                    0                    0                  0                    0                  0                   0                    1                    0                    0                  0                   1                0                 0             0             0             1             0             0             0             0             0             1   \n",
            "3                 0                 1                 0               0              0                 0                 0                 0                    0                    0                    0                    0                   0                    0                    0                    0                    0                    0                  0                   0                    0                    1                    0                    0                    0                    0                    0                   0                    0                    0                    0                    0                  0                    0                  0                   0                    0                    0                    1                  0                   0                1                 0             0             0             0             1             0             0             0             0             1   \n",
            "4                 0                 1                 0               0              0                 0                 0                 0                    0                    0                    0                    0                   0                    0                    0                    0                    0                    0                  0                   0                    1                    0                    0                    0                    0                    0                    0                   0                    0                    0                    0                    0                  0                    0                  0                   0                    1                    0                    0                  0                   1                0                 0             0             0             1             0             0             0             0             0             1   \n",
            "\n",
            "   Foundation_BrkTil  Foundation_CBlock  Foundation_PConc  Foundation_Pconc  Foundation_Slab  Foundation_Stone  Foundation_Wood  BsmtQual_Ex  BsmtQual_Fa  BsmtQual_Gd  BsmtQual_NO  BsmtQual_TA  BsmtCond_Fa  BsmtCond_Gd  BsmtCond_NO  BsmtCond_Po  BsmtCond_TA  BsmtExposure_Av  BsmtExposure_Gd  BsmtExposure_Mn  BsmtExposure_NO  BsmtExposure_No  BsmtFinType1_ALQ  BsmtFinType1_BLQ  BsmtFinType1_GLQ  BsmtFinType1_LwQ  BsmtFinType1_NO  BsmtFinType1_Rec  BsmtFinType1_Unf  BsmtFinType2_ALQ  BsmtFinType2_BLQ  BsmtFinType2_GLQ  BsmtFinType2_LwQ  BsmtFinType2_NO  BsmtFinType2_Rec  BsmtFinType2_Unf  Heating_Floor  Heating_GasA  Heating_GasW  Heating_Grav  Heating_OthW  Heating_Wall  HeatingQC_Ex  HeatingQC_Fa  HeatingQC_Gd  HeatingQC_Po  HeatingQC_TA  CentralAir_N  CentralAir_Y  Electrical_FuseA  Electrical_FuseF  Electrical_FuseP  Electrical_Mix  Electrical_SBrkr  KitchenQual_Ex  KitchenQual_Fa  KitchenQual_Gd  KitchenQual_TA  Functional_Maj1  Functional_Maj2  Functional_Min1  Functional_Min2  \\\n",
            "0                  0                  0                 1                 0                0                 0                0            0            0            1            0            0            0            0            0            0            1                0                0                0                0                1                 0                 0                 1                 0                0                 0                 0                 0                 0                 0                 0                0                 0                 1              0             1             0             0             0             0             1             0             0             0             0             0             1                 0                 0                 0               0                 1               0               0               1               0                0                0                0                0   \n",
            "1                  0                  1                 0                 0                0                 0                0            0            0            1            0            0            0            0            0            0            1                0                1                0                0                0                 1                 0                 0                 0                0                 0                 0                 0                 0                 0                 0                0                 0                 1              0             1             0             0             0             0             1             0             0             0             0             0             1                 0                 0                 0               0                 1               0               0               0               1                0                0                0                0   \n",
            "2                  0                  0                 1                 0                0                 0                0            0            0            1            0            0            0            0            0            0            1                0                0                1                0                0                 0                 0                 1                 0                0                 0                 0                 0                 0                 0                 0                0                 0                 1              0             1             0             0             0             0             1             0             0             0             0             0             1                 0                 0                 0               0                 1               0               0               1               0                0                0                0                0   \n",
            "3                  1                  0                 0                 0                0                 0                0            0            0            0            0            1            0            1            0            0            0                0                0                0                0                1                 1                 0                 0                 0                0                 0                 0                 0                 0                 0                 0                0                 0                 1              0             1             0             0             0             0             0             0             1             0             0             0             1                 0                 0                 0               0                 1               0               0               1               0                0                0                0                0   \n",
            "4                  0                  0                 1                 0                0                 0                0            0            0            1            0            0            0            0            0            0            1                1                0                0                0                0                 0                 0                 1                 0                0                 0                 0                 0                 0                 0                 0                0                 0                 1              0             1             0             0             0             0             1             0             0             0             0             0             1                 0                 0                 0               0                 1               0               0               1               0                0                0                0                0   \n",
            "\n",
            "   Functional_Mod  Functional_Sev  Functional_Typ  FireplaceQu_Ex  FireplaceQu_Fa  FireplaceQu_Gd  FireplaceQu_NO  FireplaceQu_Po  FireplaceQu_TA  GarageType_2Types  GarageType_Attchd  GarageType_Basment  GarageType_BuiltIn  GarageType_CarPort  GarageType_Detchd  GarageType_NO  GarageFinish_Fin  GarageFinish_NO  GarageFinish_RFn  GarageFinish_Unf  GarageQual_Ex  GarageQual_Fa  GarageQual_Gd  GarageQual_NO  GarageQual_Po  GarageQual_TA  GarageCond_Ex  GarageCond_Fa  GarageCond_Gd  GarageCond_NO  GarageCond_Po  GarageCond_TA  PavedDrive_N  PavedDrive_P  PavedDrive_Y  PoolQC_Ex  PoolQC_Fa  PoolQC_Gd  PoolQC_NO  Fence_GdPrv  Fence_GdWo  Fence_MnPrv  Fence_MnWw  Fence_NO  MiscFeature_Gar2  MiscFeature_NO  MiscFeature_Othr  MiscFeature_Shed  MiscFeature_TenC  SaleType_COD  SaleType_CWD  SaleType_Con  SaleType_ConLD  SaleType_ConLI  SaleType_ConLw  SaleType_New  SaleType_Oth  SaleType_WD  SaleCondition_Abnorml  SaleCondition_AdjLand  SaleCondition_Alloca  SaleCondition_Family  \\\n",
            "0               0               0               1               0               0               0               1               0               0                  0                  1                   0                   0                   0                  0              0                 0                0                 1                 0              0              0              0              0              0              1              0              0              0              0              0              1             0             0             1          0          0          0          1            0           0            0           0         1                 0               1                 0                 0                 0             0             0             0               0               0               0             0             0            1                      0                      0                     0                     0   \n",
            "1               0               0               1               0               0               0               0               0               1                  0                  1                   0                   0                   0                  0              0                 0                0                 1                 0              0              0              0              0              0              1              0              0              0              0              0              1             0             0             1          0          0          0          1            0           0            0           0         1                 0               1                 0                 0                 0             0             0             0               0               0               0             0             0            1                      0                      0                     0                     0   \n",
            "2               0               0               1               0               0               0               0               0               1                  0                  1                   0                   0                   0                  0              0                 0                0                 1                 0              0              0              0              0              0              1              0              0              0              0              0              1             0             0             1          0          0          0          1            0           0            0           0         1                 0               1                 0                 0                 0             0             0             0               0               0               0             0             0            1                      0                      0                     0                     0   \n",
            "3               0               0               1               0               0               1               0               0               0                  0                  0                   0                   0                   0                  1              0                 0                0                 0                 1              0              0              0              0              0              1              0              0              0              0              0              1             0             0             1          0          0          0          1            0           0            0           0         1                 0               1                 0                 0                 0             0             0             0               0               0               0             0             0            1                      1                      0                     0                     0   \n",
            "4               0               0               1               0               0               0               0               0               1                  0                  1                   0                   0                   0                  0              0                 0                0                 1                 0              0              0              0              0              0              1              0              0              0              0              0              1             0             0             1          0          0          0          1            0           0            0           0         1                 0               1                 0                 0                 0             0             0             0               0               0               0             0             0            1                      0                      0                     0                     0   \n",
            "\n",
            "   SaleCondition_Normal  SaleCondition_Partial  MSSubClass_20  MSSubClass_30  MSSubClass_40  MSSubClass_45  MSSubClass_50  MSSubClass_60  MSSubClass_70  MSSubClass_75  MSSubClass_80  MSSubClass_85  MSSubClass_90  MSSubClass_120  MSSubClass_150  MSSubClass_160  MSSubClass_180  MSSubClass_190  OverallQual_1  OverallQual_2  OverallQual_3  OverallQual_4  OverallQual_5  OverallQual_6  OverallQual_7  OverallQual_8  OverallQual_9  OverallQual_10  OverallCond_1  OverallCond_2  OverallCond_3  OverallCond_4  OverallCond_5  OverallCond_6  OverallCond_7  OverallCond_8  OverallCond_9  \n",
            "0                     1                      0              0              0              0              0              0              1              0              0              0              0              0               0               0               0               0               0              0              0              0              0              0              0              1              0              0               0              0              0              0              0              1              0              0              0              0  \n",
            "1                     1                      0              1              0              0              0              0              0              0              0              0              0              0               0               0               0               0               0              0              0              0              0              0              1              0              0              0               0              0              0              0              0              0              0              0              1              0  \n",
            "2                     1                      0              0              0              0              0              0              1              0              0              0              0              0               0               0               0               0               0              0              0              0              0              0              0              1              0              0               0              0              0              0              0              1              0              0              0              0  \n",
            "3                     0                      0              0              0              0              0              0              0              1              0              0              0              0               0               0               0               0               0              0              0              0              0              0              0              1              0              0               0              0              0              0              0              1              0              0              0              0  \n",
            "4                     1                      0              0              0              0              0              0              1              0              0              0              0              0               0               0               0               0               0              0              0              0              0              0              0              0              1              0               0              0              0              0              0              1              0              0              0              0  \n"
          ],
          "name": "stdout"
        }
      ]
    },
    {
      "cell_type": "code",
      "metadata": {
        "id": "JgDLNsXmzV_M",
        "colab_type": "code",
        "outputId": "a03b96fc-82ea-403a-c624-f6295d962291",
        "colab": {
          "base_uri": "https://localhost:8080/",
          "height": 34
        }
      },
      "source": [
        "#1A Building default decision tree regressor\n",
        "clf = DecisionTreeRegressor()\n",
        "clf.fit(X_train,Y_train)\n",
        "clf_predict = clf.predict(X_test)\n",
        "\n",
        "clf_cv_score = cross_val_score(clf, X_train, Y_train, cv = 10, scoring = 'neg_mean_squared_error')\n",
        "print(math.sqrt(-1*clf_cv_score.mean()))"
      ],
      "execution_count": 58,
      "outputs": [
        {
          "output_type": "stream",
          "text": [
            "44456.020197008744\n"
          ],
          "name": "stdout"
        }
      ]
    },
    {
      "cell_type": "code",
      "metadata": {
        "id": "fWkOtHW63lkg",
        "colab_type": "code",
        "outputId": "0045a37a-1c5f-464d-d905-3e5385b5f2b7",
        "colab": {
          "base_uri": "https://localhost:8080/",
          "height": 34
        }
      },
      "source": [
        "#1B Building tuned decision tree regressor\n",
        "#Using gridSearch\n",
        "clf_g = DecisionTreeRegressor()\n",
        "clf_param =  {\"max_depth\": range(40, 200, 10), \"min_samples_leaf\": range(7, 70, 7)}\n",
        "clf_gridSearch = GridSearchCV(clf_g, clf_param, cv = 5)\n",
        "clf_gridSearch.fit(X_train, Y_train)\n",
        "clf_param = clf_gridSearch.best_params_\n",
        "print(clf_param)\n"
      ],
      "execution_count": 28,
      "outputs": [
        {
          "output_type": "stream",
          "text": [
            "{'max_depth': 90, 'min_samples_leaf': 7}\n"
          ],
          "name": "stdout"
        }
      ]
    },
    {
      "cell_type": "code",
      "metadata": {
        "id": "47NmJqLJ79Re",
        "colab_type": "code",
        "outputId": "11b7dffe-ab9f-40d3-f00f-d066b90875c1",
        "colab": {
          "base_uri": "https://localhost:8080/",
          "height": 34
        }
      },
      "source": [
        "#decision tree regressor with tuned parameters\n",
        "clf_tuned = DecisionTreeRegressor(**clf_param)\n",
        "clf_tuned.fit(X_train,Y_train)\n",
        "\n",
        "clf_cv_score = cross_val_score(clf_tuned, X_train, Y_train, cv = 10, scoring = 'neg_mean_squared_error')\n",
        "print(math.sqrt(-1*clf_cv_score.mean()))"
      ],
      "execution_count": 29,
      "outputs": [
        {
          "output_type": "stream",
          "text": [
            "39174.59395857162\n"
          ],
          "name": "stdout"
        }
      ]
    },
    {
      "cell_type": "code",
      "metadata": {
        "id": "7mXkprxB9VK3",
        "colab_type": "code",
        "colab": {}
      },
      "source": [
        "#prediction using decision tree regressor\n",
        "resDF = pd.DataFrame(clf_tuned.predict(X_test), columns = ['SalePrice'])\n",
        "#copying to csv \n",
        "dt_resultDF = pd.concat([X_test['Id'], resDF], axis = 1)\n",
        "dt_resultDF.to_csv(\"/gdrive/My Drive/Assignments/TeamAssignment1/resultDTR.csv\", index = None)"
      ],
      "execution_count": 0,
      "outputs": []
    },
    {
      "cell_type": "code",
      "metadata": {
        "id": "GtvG1OAD-uBd",
        "colab_type": "code",
        "outputId": "5459c324-3325-4611-edd0-089232539b0b",
        "colab": {
          "base_uri": "https://localhost:8080/",
          "height": 34
        }
      },
      "source": [
        "#2A using default RandomForestRegressor\n",
        "rfc = RandomForestRegressor()\n",
        "rfc.fit(X_train, Y_train)\n",
        "\n",
        "rfc_cv_score = cross_val_score(rfc, X_train, Y_train, cv = 10, scoring = 'neg_mean_squared_error')\n",
        "print(math.sqrt(-1*rfc_cv_score.mean()))"
      ],
      "execution_count": 31,
      "outputs": [
        {
          "output_type": "stream",
          "text": [
            "32325.4818544891\n"
          ],
          "name": "stdout"
        }
      ]
    },
    {
      "cell_type": "code",
      "metadata": {
        "id": "7lTRZgEI-uIu",
        "colab_type": "code",
        "outputId": "4e4d8350-9626-4774-fdaa-72bb683d891a",
        "colab": {
          "base_uri": "https://localhost:8080/",
          "height": 34
        }
      },
      "source": [
        "#2B using tuned RandomForestRegressor\n",
        "rfc_r = RandomForestRegressor()\n",
        "rfc_param = {\"max_depth\": range(40, 200, 10), \"min_samples_leaf\": range(7, 70, 7)}\n",
        "\n",
        "rfc_GridSearch = GridSearchCV(rfc_r, rfc_param, cv = 5)\n",
        "rfc_GridSearch.fit(X_train, Y_train)\n",
        "rfc_param = rfc_GridSearch.best_params_\n",
        "print(rfc_param)\n"
      ],
      "execution_count": 32,
      "outputs": [
        {
          "output_type": "stream",
          "text": [
            "{'max_depth': 120, 'min_samples_leaf': 7}\n"
          ],
          "name": "stdout"
        }
      ]
    },
    {
      "cell_type": "code",
      "metadata": {
        "id": "f5p-c1b5-uWD",
        "colab_type": "code",
        "outputId": "d1a88681-adb4-46a2-fc61-9243e8bb241e",
        "colab": {
          "base_uri": "https://localhost:8080/",
          "height": 34
        }
      },
      "source": [
        "#random forest regressor with tuned parameters\n",
        "rfc_tuned = RandomForestRegressor(**rfc_param)\n",
        "rfc_tuned.fit(X_train,Y_train)\n",
        "\n",
        "rfc_cv_score = cross_val_score(rfc_tuned, X_train, Y_train, cv = 10, scoring = 'neg_mean_squared_error')\n",
        "print(math.sqrt(-1*rfc_cv_score.mean()))"
      ],
      "execution_count": 33,
      "outputs": [
        {
          "output_type": "stream",
          "text": [
            "32476.281711929507\n"
          ],
          "name": "stdout"
        }
      ]
    },
    {
      "cell_type": "code",
      "metadata": {
        "id": "2_aY4whSnGYl",
        "colab_type": "code",
        "colab": {}
      },
      "source": [
        "#prediction using random forest regressor\n",
        "resDF = pd.DataFrame(rfc_tuned.predict(X_test), columns = ['SalePrice'])\n",
        "#copying to csv \n",
        "rf_resultDF = pd.concat([X_test['Id'], resDF], axis = 1)\n",
        "rf_resultDF.to_csv(\"/gdrive/My Drive/Assignments/TeamAssignment1/resultRFR.csv\", index = None)"
      ],
      "execution_count": 0,
      "outputs": []
    },
    {
      "cell_type": "code",
      "metadata": {
        "id": "dR6Vda0n-ua2",
        "colab_type": "code",
        "outputId": "35a85c8b-b388-41a5-98ca-e5b2cd0842e3",
        "colab": {
          "base_uri": "https://localhost:8080/",
          "height": 34
        }
      },
      "source": [
        "#3A Gradient boositing regressor \n",
        "gb = GradientBoostingRegressor()\n",
        "gb.fit(X_train, Y_train)\n",
        "\n",
        "gb_cv_score = cross_val_score(gb, X_train, Y_train, cv = 10, scoring = 'neg_mean_squared_error')\n",
        "print(math.sqrt(-1*gb_cv_score.mean()))"
      ],
      "execution_count": 35,
      "outputs": [
        {
          "output_type": "stream",
          "text": [
            "27650.687427915534\n"
          ],
          "name": "stdout"
        }
      ]
    },
    {
      "cell_type": "code",
      "metadata": {
        "id": "gjbrIwFA-ufk",
        "colab_type": "code",
        "outputId": "7c3b70fd-e0ea-44a9-cc9a-c37035376b99",
        "colab": {
          "base_uri": "https://localhost:8080/",
          "height": 54
        }
      },
      "source": [
        "#3B Gradient Boosting with tuning\n",
        "\"\"\"\n",
        "gb_r = GradientBoostingRegressor()\n",
        "gb_param = {\"max_depth\": range(40, 200, 10)}\n",
        "gb_randomSearch = RandomizedSearchCV(gb_r, gb_param, n_iter = 15, cv =3)\n",
        "\n",
        "gb_randomSearch.fit(X_train, Y_train)\n",
        "gb_param = gb_randomSearch.best_params_\n",
        "print(gb_param)\n",
        "\"\"\"\n"
      ],
      "execution_count": 36,
      "outputs": [
        {
          "output_type": "execute_result",
          "data": {
            "text/plain": [
              "'\\ngb_r = GradientBoostingRegressor()\\ngb_param = {\"max_depth\": range(40, 200, 10)}\\ngb_randomSearch = RandomizedSearchCV(gb_r, gb_param, n_iter = 15, cv =3)\\n\\ngb_randomSearch.fit(X_train, Y_train)\\ngb_param = gb_randomSearch.best_params_\\nprint(gb_param)\\n'"
            ]
          },
          "metadata": {
            "tags": []
          },
          "execution_count": 36
        }
      ]
    },
    {
      "cell_type": "code",
      "metadata": {
        "id": "_UPl9tqL-uiq",
        "colab_type": "code",
        "outputId": "52ffc0bc-f038-4862-f941-51eac17a3e84",
        "colab": {
          "base_uri": "https://localhost:8080/",
          "height": 54
        }
      },
      "source": [
        "\"\"\"\n",
        "#Gradient boosting regressor with tuned parameters\n",
        "gb_tuned = GradientBoostingRegressor(**gb_param)\n",
        "gb_tuned.fit(X_train,Y_train)\n",
        "\n",
        "gb_cv_score = cross_val_score(gb_tuned, X_train, Y_train, cv = 3, scoring = 'neg_mean_squared_error')\n",
        "print(math.sqrt(-1*gb_cv_score.mean()))\n",
        "\"\"\""
      ],
      "execution_count": 0,
      "outputs": [
        {
          "output_type": "execute_result",
          "data": {
            "text/plain": [
              "\"\\n#Gradient boosting regressor with tuned parameters\\ngb_tuned = GradientBoostingRegressor(**gb_param)\\ngb_tuned.fit(X_train,Y_train)\\n\\ngb_cv_score = cross_val_score(gb_tuned, X_train, Y_train, cv = 3, scoring = 'neg_mean_squared_error')\\nprint(math.sqrt(-1*gb_cv_score.mean()))\\n\""
            ]
          },
          "metadata": {
            "tags": []
          },
          "execution_count": 26
        }
      ]
    },
    {
      "cell_type": "code",
      "metadata": {
        "id": "t7-3q08D-uGb",
        "colab_type": "code",
        "colab": {}
      },
      "source": [
        "#since default gb regressor gave lower RMSE we use the default one\n",
        "#prediction using gradient boosting regressor\n",
        "resDF = pd.DataFrame(gb.predict(X_test), columns = ['SalePrice'])\n",
        "#copying to csv \n",
        "gb_resultDF = pd.concat([X_test['Id'], resDF], axis = 1)\n",
        "gb_resultDF.to_csv(\"/gdrive/My Drive/Assignments/TeamAssignment1/resultGBR.csv\", index = None)"
      ],
      "execution_count": 0,
      "outputs": []
    },
    {
      "cell_type": "code",
      "metadata": {
        "id": "UGRqliAq32Np",
        "colab_type": "code",
        "outputId": "62b8c76e-93e8-498a-f62c-b9d1eb80702e",
        "colab": {
          "base_uri": "https://localhost:8080/",
          "height": 343
        }
      },
      "source": [
        "\"\"\"\n",
        "Normalizing the data before using mlp and support vector methods\n",
        "to avoid bias in the data.\n",
        "So we go back to the preprocessing of the data \n",
        "\"\"\"\n",
        "#Normalization of only numeric data is needed\n",
        "scaler = MinMaxScaler()\n",
        "scaler.fit(num_combined_data.xs(0))\n",
        "print(num_combined_data.xs(0).head())\n",
        "normalized_numeric_trainData = scaler.transform(num_combined_data.xs(0))\n",
        "print(\"after normalization\")\n",
        "normalized_TrainNum_df = pd.DataFrame(normalized_numeric_trainData)\n",
        "print(normalized_TrainNum_df.head())\n",
        "\n",
        "#normalizing test data as well.\n",
        "normalized_numeric_test_data = scaler.transform(num_combined_data.xs(1))\n",
        "normalized_TestNum_df = pd.DataFrame(normalized_numeric_test_data)\n",
        "\n",
        "#combining normalized numeric test train\n",
        "norm_numeric_DF = pd.concat([normalized_TrainNum_df, normalized_TestNum_df], keys = [0,1])\n",
        "\n",
        "#finally combining numeric and categorical data\n",
        "new_combined_data = pd.concat([norm_numeric_DF, encoded_cat_combined_data], axis = 1)\n",
        "\n",
        "#combined data check\n",
        "print(\"combined data\")\n",
        "print(new_combined_data.shape)\n",
        "\n",
        "#splitting new combined_data once more into train and test sets\n",
        "X_Ntrain = new_combined_data.xs(0)\n",
        "X_Ntest = new_combined_data.xs(1)\n",
        "\n",
        "#testing train and test data\n",
        "print(\"Testing train and test data\")\n",
        "print(X_Ntrain.shape)\n",
        "print(X_Ntest.shape)"
      ],
      "execution_count": 38,
      "outputs": [
        {
          "output_type": "stream",
          "text": [
            "   Id  LotFrontage  LotArea  YearBuilt  YearRemodAdd  MasVnrArea  BsmtFinSF1  BsmtFinSF2  BsmtUnfSF  TotalBsmtSF  1stFlrSF  2ndFlrSF  LowQualFinSF  GrLivArea  BsmtFullBath  BsmtHalfBath  FullBath  HalfBath  BedroomAbvGr  KitchenAbvGr  TotRmsAbvGrd  Fireplaces  GarageYrBlt  GarageCars  GarageArea  WoodDeckSF  OpenPorchSF  EnclosedPorch  3SsnPorch  ScreenPorch  PoolArea  MiscVal  MoSold  YrSold\n",
            "0   1         65.0     8450       2003          2003       196.0       706.0         0.0      150.0        856.0       856       854             0       1710           1.0           0.0         2         1             3             1             8           0       2003.0         2.0       548.0           0           61              0          0            0         0        0       2    2008\n",
            "1   2         80.0     9600       1976          1976         0.0       978.0         0.0      284.0       1262.0      1262         0             0       1262           0.0           1.0         2         0             3             1             6           1       1976.0         2.0       460.0         298            0              0          0            0         0        0       5    2007\n",
            "2   3         68.0    11250       2001          2002       162.0       486.0         0.0      434.0        920.0       920       866             0       1786           1.0           0.0         2         1             3             1             6           1       2001.0         2.0       608.0           0           42              0          0            0         0        0       9    2008\n",
            "3   4         60.0     9550       1915          1970         0.0       216.0         0.0      540.0        756.0       961       756             0       1717           1.0           0.0         1         0             3             1             7           1       1998.0         3.0       642.0           0           35            272          0            0         0        0       2    2006\n",
            "4   5         84.0    14260       2000          2000       350.0       655.0         0.0      490.0       1145.0      1145      1053             0       2198           1.0           0.0         2         1             4             1             9           1       2000.0         3.0       836.0         192           84              0          0            0         0        0      12    2008\n",
            "after normalization\n",
            "          0         1         2         3         4        5         6    7         8         9        10        11   12        13        14   15        16   17     18        19        20        21        22    23        24        25        26        27   28   29   30   31        32    33\n",
            "0  0.000000  0.150685  0.033420  0.949275  0.883333  0.12250  0.125089  0.0  0.064212  0.140098  0.119780  0.413559  0.0  0.259231  0.333333  0.0  0.666667  0.5  0.375  0.333333  0.500000  0.000000  0.936364  0.50  0.386460  0.000000  0.111517  0.000000  0.0  0.0  0.0  0.0  0.090909  0.50\n",
            "1  0.000685  0.202055  0.038795  0.753623  0.433333  0.00000  0.173281  0.0  0.121575  0.206547  0.212942  0.000000  0.0  0.174830  0.000000  0.5  0.666667  0.0  0.375  0.333333  0.333333  0.333333  0.690909  0.50  0.324401  0.347725  0.000000  0.000000  0.0  0.0  0.0  0.0  0.363636  0.25\n",
            "2  0.001371  0.160959  0.046507  0.934783  0.866667  0.10125  0.086109  0.0  0.185788  0.150573  0.134465  0.419370  0.0  0.273549  0.333333  0.0  0.666667  0.5  0.375  0.333333  0.333333  0.333333  0.918182  0.50  0.428773  0.000000  0.076782  0.000000  0.0  0.0  0.0  0.0  0.727273  0.50\n",
            "3  0.002056  0.133562  0.038561  0.311594  0.333333  0.00000  0.038271  0.0  0.231164  0.123732  0.143873  0.366102  0.0  0.260550  0.333333  0.0  0.333333  0.0  0.375  0.333333  0.416667  0.333333  0.890909  0.75  0.452750  0.000000  0.063985  0.492754  0.0  0.0  0.0  0.0  0.090909  0.00\n",
            "4  0.002742  0.215753  0.060576  0.927536  0.833333  0.21875  0.116052  0.0  0.209760  0.187398  0.186095  0.509927  0.0  0.351168  0.333333  0.0  0.666667  0.5  0.500  0.333333  0.583333  0.333333  0.909091  0.75  0.589563  0.224037  0.153565  0.000000  0.0  0.0  0.0  0.0  1.000000  0.50\n",
            "combined data\n",
            "(2919, 336)\n",
            "Testing train and test data\n",
            "(1460, 336)\n",
            "(1459, 336)\n"
          ],
          "name": "stdout"
        }
      ]
    },
    {
      "cell_type": "code",
      "metadata": {
        "id": "QZBgftQQT25x",
        "colab_type": "code",
        "outputId": "203716b8-f655-45a4-a137-c416b60ec79f",
        "colab": {
          "base_uri": "https://localhost:8080/",
          "height": 34
        }
      },
      "source": [
        "#3C Gradient boositing regressor on the normalized data\n",
        "gb = GradientBoostingRegressor()\n",
        "gb.fit(X_Ntrain, Y_train)\n",
        "\n",
        "gb_cv_score = cross_val_score(gb, X_Ntrain, Y_train, cv = 10, scoring = 'neg_mean_squared_error')\n",
        "print(math.sqrt(-1*gb_cv_score.mean()))"
      ],
      "execution_count": 39,
      "outputs": [
        {
          "output_type": "stream",
          "text": [
            "27682.453644877438\n"
          ],
          "name": "stdout"
        }
      ]
    },
    {
      "cell_type": "code",
      "metadata": {
        "id": "nRlAjlXaUB3A",
        "colab_type": "code",
        "colab": {}
      },
      "source": [
        "#prediction using gradient boosting regressor\n",
        "resDF = pd.DataFrame(gb.predict(X_test), columns = ['SalePrice'])\n",
        "#copying to csv \n",
        "gb_resultDF = pd.concat([X_test['Id'], resDF], axis = 1)\n",
        "gb_resultDF.to_csv(\"/gdrive/My Drive/Assignments/TeamAssignment1/resultGBRAfterNorm.csv\", index = None)"
      ],
      "execution_count": 0,
      "outputs": []
    },
    {
      "cell_type": "code",
      "metadata": {
        "id": "t5avNA3h-uEL",
        "colab_type": "code",
        "outputId": "df4af12d-d3de-4b8c-ba3f-ad9cec2ddddc",
        "colab": {
          "base_uri": "https://localhost:8080/",
          "height": 34
        }
      },
      "source": [
        "#4 using MLP regressor on normalized data\n",
        "MLP_n = MLPRegressor()\n",
        "MLP_n.fit(X_Ntrain, Y_train)\n",
        "\n",
        "MLP_cv_score = cross_val_score(MLP_n, X_Ntrain, Y_train, cv = 10, scoring = 'neg_mean_squared_error')\n",
        "print(math.sqrt(-1*MLP_cv_score.mean()))"
      ],
      "execution_count": 41,
      "outputs": [
        {
          "output_type": "stream",
          "text": [
            "184648.09749901676\n"
          ],
          "name": "stdout"
        }
      ]
    },
    {
      "cell_type": "code",
      "metadata": {
        "id": "L12VYgo9FzB5",
        "colab_type": "code",
        "outputId": "13dd73e8-0907-47e6-ce82-5b143179f81d",
        "colab": {
          "base_uri": "https://localhost:8080/",
          "height": 34
        }
      },
      "source": [
        "#since normalized data not good enough for mlp\n",
        "#we stick to mlp on the original data\n",
        "MLP = MLPRegressor()\n",
        "MLP.fit(X_train, Y_train)\n",
        "\n",
        "MLP_cv_score = cross_val_score(MLP, X_train, Y_train, cv = 10, scoring = 'neg_mean_squared_error')\n",
        "print(math.sqrt(-1*MLP_cv_score.mean()))"
      ],
      "execution_count": 42,
      "outputs": [
        {
          "output_type": "stream",
          "text": [
            "46434.125439040225\n"
          ],
          "name": "stdout"
        }
      ]
    },
    {
      "cell_type": "code",
      "metadata": {
        "id": "MsfYKV-R-t_g",
        "colab_type": "code",
        "colab": {}
      },
      "source": [
        "#prediction using MLP regressor\n",
        "resDF = pd.DataFrame(MLP.predict(X_test), columns = ['SalePrice'])\n",
        "#copying to csv \n",
        "MLPR_resultDF = pd.concat([X_test['Id'], resDF], axis = 1)\n",
        "MLPR_resultDF.to_csv(\"/gdrive/My Drive/Assignments/TeamAssignment1/resultMLPR.csv\", index = None)"
      ],
      "execution_count": 0,
      "outputs": []
    },
    {
      "cell_type": "code",
      "metadata": {
        "id": "tb9Lj0unsNeJ",
        "colab_type": "code",
        "outputId": "1c4ff68b-2a85-49e5-f92b-3a706b98b14d",
        "colab": {
          "base_uri": "https://localhost:8080/",
          "height": 34
        }
      },
      "source": [
        "#5 using gradient descent regressor on normalized data\n",
        "sgd = SGDRegressor(max_iter = 1000, tol = 1e-3)\n",
        "sgd.fit(X_Ntrain, Y_train)\n",
        "\n",
        "sgd_cv_score = cross_val_score(sgd, X_Ntrain, Y_train, cv = 10, scoring = 'neg_mean_squared_error')\n",
        "print(math.sqrt(-1*sgd_cv_score.mean()))\n"
      ],
      "execution_count": 45,
      "outputs": [
        {
          "output_type": "stream",
          "text": [
            "30830.941206745425\n"
          ],
          "name": "stdout"
        }
      ]
    },
    {
      "cell_type": "code",
      "metadata": {
        "id": "GMUhuPc_x1S-",
        "colab_type": "code",
        "colab": {}
      },
      "source": [
        "#prediction using gradient descent regressor\n",
        "resDF = pd.DataFrame(sgd.predict(X_Ntest), columns = ['SalePrice'])\n",
        "#copying to csv \n",
        "sgd_resultDF = pd.concat([X_test['Id'], resDF], axis = 1)\n",
        "sgd_resultDF.to_csv(\"/gdrive/My Drive/Assignments/TeamAssignment1/resultSGD.csv\", index = None)"
      ],
      "execution_count": 0,
      "outputs": []
    },
    {
      "cell_type": "code",
      "metadata": {
        "id": "5-JjVGxO0KJw",
        "colab_type": "code",
        "outputId": "b3c4bad1-e7c7-4ec9-adf1-e7633a6673ba",
        "colab": {
          "base_uri": "https://localhost:8080/",
          "height": 34
        }
      },
      "source": [
        "#6 using support vector regressor on the normalized data\n",
        "svr = SVR()\n",
        "svr.fit(X_Ntrain, Y_train)\n",
        "\n",
        "svr_cv_score = cross_val_score(svr, X_Ntrain, Y_train, cv = 10, scoring = 'neg_mean_squared_error')\n",
        "print(math.sqrt(-1*svr_cv_score.mean()))\n"
      ],
      "execution_count": 47,
      "outputs": [
        {
          "output_type": "stream",
          "text": [
            "81433.3092208208\n"
          ],
          "name": "stdout"
        }
      ]
    },
    {
      "cell_type": "code",
      "metadata": {
        "id": "NA4nQ02M0KTC",
        "colab_type": "code",
        "colab": {}
      },
      "source": [
        "#prediction using support vector regressor\n",
        "resDF = pd.DataFrame(svr.predict(X_Ntest), columns = ['SalePrice'])\n",
        "#copying to csv \n",
        "svr_resultDF = pd.concat([X_test['Id'], resDF], axis = 1)\n",
        "svr_resultDF.to_csv(\"/gdrive/My Drive/Assignments/TeamAssignment1/resultSVR.csv\", index = None)\n"
      ],
      "execution_count": 0,
      "outputs": []
    },
    {
      "cell_type": "code",
      "metadata": {
        "id": "zRD3aW_XCMR2",
        "colab_type": "code",
        "colab": {}
      },
      "source": [
        "#"
      ],
      "execution_count": 0,
      "outputs": []
    },
    {
      "cell_type": "code",
      "metadata": {
        "id": "fmqaMHEjHELs",
        "colab_type": "code",
        "colab": {}
      },
      "source": [
        "\"\"\"\n",
        "From kaggle the best scores are obtained for below 3 models:\n",
        "1. Gradient Boosting regressor\n",
        "2. Tuned Random Forest Regressor\n",
        "3. Gradient Descent Regressor\n",
        "\"\"\""
      ],
      "execution_count": 0,
      "outputs": []
    },
    {
      "cell_type": "code",
      "metadata": {
        "id": "GvM_VhfVHS9E",
        "colab_type": "code",
        "outputId": "58111918-f33d-44a0-b454-0ba7edf45383",
        "colab": {
          "base_uri": "https://localhost:8080/",
          "height": 561
        }
      },
      "source": [
        "#stacking all the models over normalized data\n",
        "models = [gb, rfc_tuned, sgd]\n",
        "\n",
        "S_train, S_test = stacking(models, \n",
        "                           X_Ntrain, Y_train, X_Ntest, \n",
        "                           regression = True,\n",
        "                           mode = 'oof_pred_bag',\n",
        "                           needs_proba = False,\n",
        "                           save_dir = None,\n",
        "                           n_folds = 4,\n",
        "                           verbose = 2)\n"
      ],
      "execution_count": 49,
      "outputs": [
        {
          "output_type": "stream",
          "text": [
            "task:         [regression]\n",
            "metric:       [mean_absolute_error]\n",
            "mode:         [oof_pred_bag]\n",
            "n_models:     [3]\n",
            "\n",
            "model  0:     [GradientBoostingRegressor]\n",
            "    fold  0:  [16224.16691976]\n",
            "    fold  1:  [18609.05937445]\n",
            "    fold  2:  [15820.88663563]\n",
            "    fold  3:  [16401.01512924]\n",
            "    ----\n",
            "    MEAN:     [16763.78201477] + [1085.91948299]\n",
            "    FULL:     [16763.78201477]\n",
            "\n",
            "model  1:     [RandomForestRegressor]\n",
            "    fold  0:  [19668.18477595]\n",
            "    fold  1:  [22172.94236841]\n",
            "    fold  2:  [18384.94175011]\n",
            "    fold  3:  [19163.82435671]\n",
            "    ----\n",
            "    MEAN:     [19847.47331279] + [1418.30225755]\n",
            "    FULL:     [19847.47331279]\n",
            "\n",
            "model  2:     [SGDRegressor]\n",
            "    fold  0:  [17882.91265258]\n",
            "    fold  1:  [20151.30420960]\n",
            "    fold  2:  [17376.64891249]\n",
            "    fold  3:  [18548.24256705]\n",
            "    ----\n",
            "    MEAN:     [18489.77708543] + [1045.39817368]\n",
            "    FULL:     [18489.77708543]\n",
            "\n"
          ],
          "name": "stdout"
        }
      ]
    },
    {
      "cell_type": "code",
      "metadata": {
        "id": "gJegYjdJRW0b",
        "colab_type": "code",
        "outputId": "074a76a5-939d-4f32-e574-d419353c3bf1",
        "colab": {
          "base_uri": "https://localhost:8080/",
          "height": 34
        }
      },
      "source": [
        "#1 gradient boosting over the stack\n",
        "gb_stack = GradientBoostingRegressor()\n",
        "gb_stack.fit(S_train, Y_train)\n",
        "\n",
        "gb_stack_cv_score = cross_val_score(gb_stack, X_train, Y_train, cv = 10, scoring = 'neg_mean_squared_error')\n",
        "print(math.sqrt(-1*gb_cv_score.mean()))"
      ],
      "execution_count": 50,
      "outputs": [
        {
          "output_type": "stream",
          "text": [
            "27682.453644877438\n"
          ],
          "name": "stdout"
        }
      ]
    },
    {
      "cell_type": "code",
      "metadata": {
        "id": "Ru0G4LDxSISh",
        "colab_type": "code",
        "colab": {}
      },
      "source": [
        "#prediction using stacking model\n",
        "resDF = pd.DataFrame(gb_stack.predict(S_test), columns = ['SalePrice'])\n",
        "#copying to csv  \n",
        "stackModel_resultDF = pd.concat([X_test['Id'], resDF], axis = 1)\n",
        "stackModel_resultDF.to_csv(\"/gdrive/My Drive/Assignments/TeamAssignment1/resultGBStack.csv\", index = None)\n"
      ],
      "execution_count": 0,
      "outputs": []
    },
    {
      "cell_type": "code",
      "metadata": {
        "id": "g7igd2vEVF4A",
        "colab_type": "code",
        "outputId": "63fd3d9f-0920-49b3-bb55-5d2e220215bf",
        "colab": {
          "base_uri": "https://localhost:8080/",
          "height": 34
        }
      },
      "source": [
        "#2 Random Forest Regressor over stack\n",
        "rfR_stack = RandomForestRegressor()\n",
        "rfR_stack.fit(S_train, Y_train)\n",
        "\n",
        "rfR_stack_cv_score = cross_val_score(rfR_stack, S_train, Y_train, cv = 10, scoring = 'neg_mean_squared_error')\n",
        "print(math.sqrt(-1*rfR_stack_cv_score.mean()))"
      ],
      "execution_count": 52,
      "outputs": [
        {
          "output_type": "stream",
          "text": [
            "33313.3920155379\n"
          ],
          "name": "stdout"
        }
      ]
    },
    {
      "cell_type": "code",
      "metadata": {
        "id": "7XwWZ4S4VpP4",
        "colab_type": "code",
        "colab": {}
      },
      "source": [
        "#prediction using stacking model\n",
        "resDF = pd.DataFrame(rfR_stack.predict(S_test), columns = ['SalePrice'])\n",
        "#copying to csv  \n",
        "stackModel_resultDF = pd.concat([X_test['Id'], resDF], axis = 1)\n",
        "stackModel_resultDF.to_csv(\"/gdrive/My Drive/Assignments/TeamAssignment1/resultRFStack.csv\", index = None)\n"
      ],
      "execution_count": 0,
      "outputs": []
    },
    {
      "cell_type": "code",
      "metadata": {
        "id": "xp8Giy0eWdD8",
        "colab_type": "code",
        "outputId": "0a0ba164-1cad-40ce-e52b-02d996b9e7fd",
        "colab": {
          "base_uri": "https://localhost:8080/",
          "height": 34
        }
      },
      "source": [
        "#2 Decision Tree Regressor over stack\n",
        "dt_stack = DecisionTreeRegressor()\n",
        "dt_stack.fit(S_train, Y_train)\n",
        "\n",
        "dt_stack_cv_score = cross_val_score(dt_stack, S_train, Y_train, cv = 10, scoring = 'neg_mean_squared_error')\n",
        "print(math.sqrt(-1*dt_stack_cv_score.mean()))"
      ],
      "execution_count": 54,
      "outputs": [
        {
          "output_type": "stream",
          "text": [
            "38982.48810493463\n"
          ],
          "name": "stdout"
        }
      ]
    },
    {
      "cell_type": "code",
      "metadata": {
        "id": "aWE2TrVFDrd6",
        "colab_type": "code",
        "colab": {}
      },
      "source": [
        "#prediction using stacking model\n",
        "resDF = pd.DataFrame(dt_stack.predict(S_test), columns = ['SalePrice'])\n",
        "#copying to csv  \n",
        "stackModel_resultDF = pd.concat([X_test['Id'], resDF], axis = 1)\n",
        "stackModel_resultDF.to_csv(\"/gdrive/My Drive/Assignments/TeamAssignment1/resultDTStack.csv\", index = None)\n"
      ],
      "execution_count": 0,
      "outputs": []
    }
  ]
}